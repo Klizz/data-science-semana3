{
 "cells": [
  {
   "cell_type": "markdown",
   "metadata": {
    "colab_type": "text",
    "id": "ykDBllTHJQsX"
   },
   "source": [
    "## *Sesión de retos*\n",
    "\n",
    "### *“Trabajar en equipo, divide el trabajo y multiplica los resultados”*, Anónimo."
   ]
  },
  {
   "cell_type": "markdown",
   "metadata": {
    "colab_type": "text",
    "id": "k9lbmdNPYTuD"
   },
   "source": [
    "## Ejercicios"
   ]
  },
  {
   "cell_type": "markdown",
   "metadata": {
    "colab_type": "text",
    "id": "yVIejGIHXw3k"
   },
   "source": [
    "#### 1. Generar dos arrreglos (A y B) y revisar si son iguales"
   ]
  },
  {
   "cell_type": "code",
   "execution_count": 1,
   "metadata": {
    "colab": {},
    "colab_type": "code",
    "id": "R8u-DFThXw3l",
    "outputId": "774f5788-ae3b-4582-f996-e75d3142f503"
   },
   "outputs": [],
   "source": [
    "import numpy as np"
   ]
  },
  {
   "cell_type": "markdown",
   "metadata": {
    "colab_type": "text",
    "id": "R0lp210pXw3p"
   },
   "source": [
    "#### 2. Transformar a coordenadas polares una matriz aleatoria con tamaño de 10x2 la cual contiene una coordenadas cartesianas.\n",
    "\n",
    "Recordar: Las fórmulas para convertir coordenadas cartesianas (x,y) a polares (r,θ) son:\n",
    "1.    r = √ (x^2 + y^2)\n",
    "2.    θ = atan( y / x )\n",
    "3.    x = r × cos( θ )\n",
    "4.    y = r × sin( θ )"
   ]
  },
  {
   "cell_type": "code",
   "execution_count": 0,
   "metadata": {
    "colab": {},
    "colab_type": "code",
    "id": "AmYxrh7eXw3q",
    "outputId": "ed5594c3-07ca-4d1b-b0fc-a3c912693d3e"
   },
   "outputs": [
    {
     "name": "stdout",
     "output_type": "stream",
     "text": [
      "Coordenadas cartesianas:  [[0.15358073 0.03096703]\n",
      " [0.87500006 0.61204478]\n",
      " [0.98268396 0.05715278]\n",
      " [0.62366493 0.89886159]\n",
      " [0.88030957 0.11246605]\n",
      " [0.89382262 0.62423321]\n",
      " [0.65662459 0.86068201]\n",
      " [0.21798898 0.17578757]\n",
      " [0.97330909 0.27646017]\n",
      " [0.55891215 0.84973052]]\n",
      "X =  [0.15358073 0.87500006 0.98268396 0.62366493 0.88030957 0.89382262\n",
      " 0.65662459 0.21798898 0.97330909 0.55891215]\n",
      "Y =  [0.03096703 0.61204478 0.05715278 0.89886159 0.11246605 0.62423321\n",
      " 0.86068201 0.17578757 0.27646017 0.84973052]\n",
      "r =  [0.15667163 1.06781268 0.98434455 1.09403387 0.88746467 1.0902229\n",
      " 1.08255687 0.28003655 1.01181066 1.01706674]\n",
      "θ =  [0.03095714 0.54922892 0.05709067 0.73218579 0.11199544 0.55804772\n",
      " 0.71066292 0.17400973 0.26972321 0.7043376 ]\n"
     ]
    }
   ],
   "source": []
  },
  {
   "cell_type": "markdown",
   "metadata": {
    "colab_type": "text",
    "id": "dtHJ6v3ZXw3t"
   },
   "source": [
    "#### 3. Crear la siguiente matriz:\n",
    "\n",
    "\n",
    "```\n",
    "[((0., 0.), (0., 0., 0.)) ((0., 0.), (0., 0., 0.))\n",
    " ((0., 0.), (0., 0., 0.)) ((0., 0.), (0., 0., 0.))\n",
    " ((0., 0.), (0., 0., 0.)) ((0., 0.), (0., 0., 0.))\n",
    " ((0., 0.), (0., 0., 0.)) ((0., 0.), (0., 0., 0.))\n",
    " ((0., 0.), (0., 0., 0.)) ((0., 0.), (0., 0., 0.))]\n",
    "```\n",
    " \n",
    "Cada fila tiene dos valores, el primero representa una posición (x,y) y el segundo un color (r,g,b)"
   ]
  },
  {
   "cell_type": "code",
   "execution_count": 0,
   "metadata": {
    "colab": {},
    "colab_type": "code",
    "id": "su-T0YdYXw3u",
    "outputId": "2095ac4c-dfbf-4d92-e02b-c02738717c6d"
   },
   "outputs": [
    {
     "name": "stdout",
     "output_type": "stream",
     "text": [
      "[((0., 0.), (0., 0., 0.)) ((0., 0.), (0., 0., 0.))\n",
      " ((0., 0.), (0., 0., 0.)) ((0., 0.), (0., 0., 0.))\n",
      " ((0., 0.), (0., 0., 0.)) ((0., 0.), (0., 0., 0.))\n",
      " ((0., 0.), (0., 0., 0.)) ((0., 0.), (0., 0., 0.))\n",
      " ((0., 0.), (0., 0., 0.)) ((0., 0.), (0., 0., 0.))]\n"
     ]
    },
    {
     "name": "stderr",
     "output_type": "stream",
     "text": [
      "/home/ludim/Apps/y/lib/python3.6/site-packages/ipykernel_launcher.py:5: FutureWarning: Passing (type, 1) or '1type' as a synonym of type is deprecated; in a future version of numpy, it will be understood as (type, (1,)) / '(1,)type'.\n",
      "  \"\"\"\n"
     ]
    }
   ],
   "source": []
  },
  {
   "cell_type": "markdown",
   "metadata": {
    "colab_type": "text",
    "id": "6wLSzCi4Xw3x"
   },
   "source": [
    "#### 4. Generar una matriz aleatoria e identificar si hay una o varias columnas que tengan completamente valor cero"
   ]
  },
  {
   "cell_type": "code",
   "execution_count": 0,
   "metadata": {
    "colab": {},
    "colab_type": "code",
    "id": "ckwuVpOQXw3y",
    "outputId": "c66745de-60c0-4f49-be09-c2e059bcf193"
   },
   "outputs": [
    {
     "name": "stdout",
     "output_type": "stream",
     "text": [
      "[[1 1 2 2 0 1 0 1 1 0]\n",
      " [2 1 2 1 2 2 0 1 1 1]\n",
      " [1 1 1 1 1 0 0 2 0 1]]\n",
      "True\n"
     ]
    }
   ],
   "source": []
  },
  {
   "cell_type": "markdown",
   "metadata": {
    "colab_type": "text",
    "id": "qkI7y8WDXw33"
   },
   "source": [
    "#### 5. Generar un vector con números aleatorios y encontrar el valor más cercano al valor x.\n",
    "Condiciones:\n",
    "- x es una variable tipo flotante generada aleatoriamente, entre 0 y 1\n",
    "- X es un vector con 20 números aleatorios generados de forma uniforme entre 0 y 1"
   ]
  },
  {
   "cell_type": "code",
   "execution_count": 0,
   "metadata": {
    "colab": {},
    "colab_type": "code",
    "id": "djrjZW6LXw33",
    "outputId": "8bdc79fc-f915-4183-89a7-edfec755b58b"
   },
   "outputs": [
    {
     "name": "stdout",
     "output_type": "stream",
     "text": [
      "[0.6425178  0.17253288 0.02409161 0.08132971 0.84387309 0.82736326\n",
      " 0.42721613 0.44473782 0.5050913  0.97002896 0.94950817 0.52504016\n",
      " 0.53910962 0.73652567 0.55941773 0.17455383 0.20945101 0.43702857\n",
      " 0.11975674 0.28621854]\n",
      "0.15884985164365262\n",
      "0.17253287605076906\n"
     ]
    }
   ],
   "source": []
  },
  {
   "cell_type": "markdown",
   "metadata": {
    "colab_type": "text",
    "id": "xKgjLJ8gXw4A"
   },
   "source": [
    "#### 6. Obtener la diagonal de un producto punto.\n",
    "Requisitos:\n",
    "- Declarar dos vectores A y B que tengan la misma longitud"
   ]
  },
  {
   "cell_type": "code",
   "execution_count": 0,
   "metadata": {
    "colab": {},
    "colab_type": "code",
    "id": "wuVpcj3YXw4B",
    "outputId": "9c293e79-5415-4710-dad9-05f9a5f04c5b"
   },
   "outputs": [
    {
     "data": {
      "text/plain": [
       "array([2.05114397, 0.99786987, 1.83596608, 2.04335193, 1.90425813])"
      ]
     },
     "execution_count": 245,
     "metadata": {
      "tags": []
     },
     "output_type": "execute_result"
    }
   ],
   "source": []
  },
  {
   "cell_type": "markdown",
   "metadata": {
    "colab_type": "text",
    "id": "72xU-25UgQFG"
   },
   "source": [
    "#### 7. Extraer los items que sean divisibles en 3."
   ]
  },
  {
   "cell_type": "code",
   "execution_count": 0,
   "metadata": {
    "colab": {
     "base_uri": "https://localhost:8080/",
     "height": 35
    },
    "colab_type": "code",
    "executionInfo": {
     "elapsed": 463,
     "status": "ok",
     "timestamp": 1585167107085,
     "user": {
      "displayName": "Ludim Salo",
      "photoUrl": "",
      "userId": "03840773669080222351"
     },
     "user_tz": 360
    },
    "id": "Y7hzsF0qgKZf",
    "outputId": "c98b3cd5-e13c-4c9b-f20e-e2937171c1a4",
    "scrolled": true
   },
   "outputs": [
    {
     "data": {
      "text/plain": [
       "array([156, 795, 855, 609, 855,  39])"
      ]
     },
     "execution_count": 6,
     "metadata": {
      "tags": []
     },
     "output_type": "execute_result"
    }
   ],
   "source": [
    "matrix_int = np.random.randint(1000, size=10)\n",
    "\n",
    "div3= matrix_int % 3==0\n",
    "matrix_int\n",
    "\n",
    "#Arreglo de los valores dados por el filtro\n",
    "d3=matrix_int[div3]\n",
    "d3"
   ]
  },
  {
   "cell_type": "markdown",
   "metadata": {
    "colab_type": "text",
    "id": "UPYsCQFJgQwA"
   },
   "source": [
    "#### 8. Convierte el arreglo booleano de 1D a 2D con tres filas (*reshape*)"
   ]
  },
  {
   "cell_type": "code",
   "execution_count": 0,
   "metadata": {
    "colab": {
     "base_uri": "https://localhost:8080/",
     "height": 72
    },
    "colab_type": "code",
    "executionInfo": {
     "elapsed": 412,
     "status": "ok",
     "timestamp": 1585167121491,
     "user": {
      "displayName": "Ludim Salo",
      "photoUrl": "",
      "userId": "03840773669080222351"
     },
     "user_tz": 360
    },
    "id": "CXh7h2AQgKSX",
    "outputId": "0c090b67-7a9e-48a3-c9d0-387b7356dd78"
   },
   "outputs": [
    {
     "data": {
      "text/plain": [
       "array([[ True, False],\n",
       "       [ True, False],\n",
       "       [ True,  True]])"
      ]
     },
     "execution_count": 7,
     "metadata": {
      "tags": []
     },
     "output_type": "execute_result"
    }
   ],
   "source": [
    "arreglo_3 = np.random.choice(true_false, int(6))\n",
    "np.reshape(arreglo_3, [3, 2])"
   ]
  },
  {
   "cell_type": "markdown",
   "metadata": {
    "colab_type": "text",
    "id": "rHI3QxeOhE3-"
   },
   "source": [
    "#### 9. Obtén los items comunes entre dos arreglos"
   ]
  },
  {
   "cell_type": "code",
   "execution_count": 0,
   "metadata": {
    "colab": {
     "base_uri": "https://localhost:8080/",
     "height": 35
    },
    "colab_type": "code",
    "executionInfo": {
     "elapsed": 702,
     "status": "ok",
     "timestamp": 1585167130427,
     "user": {
      "displayName": "Ludim Salo",
      "photoUrl": "",
      "userId": "03840773669080222351"
     },
     "user_tz": 360
    },
    "id": "_lKGSmSbhDcS",
    "outputId": "dd7f2d3e-57c1-45e1-f097-18601b1516fc"
   },
   "outputs": [
    {
     "data": {
      "text/plain": [
       "array([1, 2, 4])"
      ]
     },
     "execution_count": 8,
     "metadata": {
      "tags": []
     },
     "output_type": "execute_result"
    }
   ],
   "source": [
    "x = np.array([1, 1, 2, 3, 4])\n",
    "y = np.array([2, 1, 4, 6])\n",
    "xy= np.intersect1d(x, y)\n",
    "xy"
   ]
  },
  {
   "cell_type": "markdown",
   "metadata": {
    "colab_type": "text",
    "id": "gvNrTraKgSZh"
   },
   "source": [
    "#### 10. Muestra solo 3 decimales en un vector."
   ]
  },
  {
   "cell_type": "code",
   "execution_count": 0,
   "metadata": {
    "colab": {
     "base_uri": "https://localhost:8080/",
     "height": 54
    },
    "colab_type": "code",
    "executionInfo": {
     "elapsed": 346,
     "status": "ok",
     "timestamp": 1585167265427,
     "user": {
      "displayName": "Ludim Salo",
      "photoUrl": "",
      "userId": "03840773669080222351"
     },
     "user_tz": 360
    },
    "id": "1HQfRpemgKLb",
    "outputId": "b3081281-1c30-401c-9bc2-87f78ce2a40c"
   },
   "outputs": [
    {
     "data": {
      "text/plain": [
       "array([-0.126, -0.718, -0.036, -2.755, -1.062, -0.889,  1.112,  0.657,\n",
       "        0.708,  0.403])"
      ]
     },
     "execution_count": 13,
     "metadata": {
      "tags": []
     },
     "output_type": "execute_result"
    }
   ],
   "source": [
    "v = np.random.randn(10)\n",
    "np.around(v, decimals=3)"
   ]
  },
  {
   "cell_type": "markdown",
   "metadata": {
    "colab_type": "text",
    "id": "TwNsufyigTCG"
   },
   "source": [
    "#### 11. Crea una matriz de 3x3 con los valores del 0 a 8"
   ]
  },
  {
   "cell_type": "code",
   "execution_count": 0,
   "metadata": {
    "colab": {
     "base_uri": "https://localhost:8080/",
     "height": 72
    },
    "colab_type": "code",
    "executionInfo": {
     "elapsed": 370,
     "status": "ok",
     "timestamp": 1585167271698,
     "user": {
      "displayName": "Ludim Salo",
      "photoUrl": "",
      "userId": "03840773669080222351"
     },
     "user_tz": 360
    },
    "id": "HnST7oyFgKIK",
    "outputId": "a1b46a99-3b81-4863-9fac-17e26b9cc8ec"
   },
   "outputs": [
    {
     "data": {
      "text/plain": [
       "array([[0, 1, 2],\n",
       "       [3, 4, 5],\n",
       "       [6, 7, 8]])"
      ]
     },
     "execution_count": 14,
     "metadata": {
      "tags": []
     },
     "output_type": "execute_result"
    }
   ],
   "source": [
    "np.arange(9).reshape(3, 3)"
   ]
  },
  {
   "cell_type": "markdown",
   "metadata": {
    "colab_type": "text",
    "id": "l9wHdeTygTTW"
   },
   "source": [
    "#### 12. Del siguiente areglo [1,2,0,0,4,] encuentra los índices donde los elementos sean diferente a cero."
   ]
  },
  {
   "cell_type": "code",
   "execution_count": 0,
   "metadata": {
    "colab": {
     "base_uri": "https://localhost:8080/",
     "height": 35
    },
    "colab_type": "code",
    "executionInfo": {
     "elapsed": 429,
     "status": "ok",
     "timestamp": 1585167273628,
     "user": {
      "displayName": "Ludim Salo",
      "photoUrl": "",
      "userId": "03840773669080222351"
     },
     "user_tz": 360
    },
    "id": "DQRdnk4UgVHK",
    "outputId": "75e9f226-1394-4ca7-c2e8-b229743148d9"
   },
   "outputs": [
    {
     "data": {
      "text/plain": [
       "(array([0, 1, 4]),)"
      ]
     },
     "execution_count": 15,
     "metadata": {
      "tags": []
     },
     "output_type": "execute_result"
    }
   ],
   "source": [
    "indc = np.array([1,2,0,0,4])\n",
    "np.where (indc != 0)"
   ]
  },
  {
   "cell_type": "markdown",
   "metadata": {
    "colab_type": "text",
    "id": "xh5IJIeAgThu"
   },
   "source": [
    "#### 13. Crea un vector aleatorio de 30 elementos y encuentra la media."
   ]
  },
  {
   "cell_type": "code",
   "execution_count": 0,
   "metadata": {
    "colab": {
     "base_uri": "https://localhost:8080/",
     "height": 54
    },
    "colab_type": "code",
    "executionInfo": {
     "elapsed": 367,
     "status": "ok",
     "timestamp": 1585167289755,
     "user": {
      "displayName": "Ludim Salo",
      "photoUrl": "",
      "userId": "03840773669080222351"
     },
     "user_tz": 360
    },
    "id": "9d-XogxjB4YF",
    "outputId": "db4eacae-0c86-4307-bffa-5ed4da79ab45"
   },
   "outputs": [
    {
     "data": {
      "text/plain": [
       "array([71, 37, 89, 64, 16, 44, 79, 41, 11, 36, 57, 59, 91, 70, 97, 74,  0,\n",
       "       96, 97, 73, 15,  2, 20,  0, 24, 21, 20, 87, 23, 35])"
      ]
     },
     "execution_count": 16,
     "metadata": {
      "tags": []
     },
     "output_type": "execute_result"
    }
   ],
   "source": [
    "enteros_aleatorios30 = np.random.randint(100, size=30)\n",
    "enteros_aleatorios30"
   ]
  },
  {
   "cell_type": "code",
   "execution_count": 0,
   "metadata": {
    "colab": {
     "base_uri": "https://localhost:8080/",
     "height": 35
    },
    "colab_type": "code",
    "executionInfo": {
     "elapsed": 858,
     "status": "ok",
     "timestamp": 1585167295974,
     "user": {
      "displayName": "Ludim Salo",
      "photoUrl": "",
      "userId": "03840773669080222351"
     },
     "user_tz": 360
    },
    "id": "eRXdgSQBhta5",
    "outputId": "d98d6254-7fcd-4177-f55d-c95865856601"
   },
   "outputs": [
    {
     "data": {
      "text/plain": [
       "48.3"
      ]
     },
     "execution_count": 17,
     "metadata": {
      "tags": []
     },
     "output_type": "execute_result"
    }
   ],
   "source": [
    "enteros_aleatorios30.mean ()"
   ]
  },
  {
   "cell_type": "markdown",
   "metadata": {
    "colab_type": "text",
    "id": "Wo4p6o7DB5XQ"
   },
   "source": [
    "#### 14. Crea un arreglo 2D con 1 en los bordes y 0 dentro. Por ejemplo:\n",
    "```\n",
    "1 1 1 1 1\n",
    "1 0 0 0 1\n",
    "1 0 0 0 1\n",
    "1 1 1 1 1\n",
    "```"
   ]
  },
  {
   "cell_type": "code",
   "execution_count": 0,
   "metadata": {
    "colab": {
     "base_uri": "https://localhost:8080/",
     "height": 72
    },
    "colab_type": "code",
    "executionInfo": {
     "elapsed": 448,
     "status": "ok",
     "timestamp": 1585167300367,
     "user": {
      "displayName": "Ludim Salo",
      "photoUrl": "",
      "userId": "03840773669080222351"
     },
     "user_tz": 360
    },
    "id": "1mY_MRl1gUcy",
    "outputId": "0ea39688-6163-4c96-c69c-d8ac3e9a7486"
   },
   "outputs": [
    {
     "data": {
      "text/plain": [
       "array([[1, 1, 1],\n",
       "       [1, 0, 1],\n",
       "       [1, 1, 1]])"
      ]
     },
     "execution_count": 18,
     "metadata": {
      "tags": []
     },
     "output_type": "execute_result"
    }
   ],
   "source": [
    "np.array ([[1,1,1],[1,0,1],[1,1,1]])"
   ]
  },
  {
   "cell_type": "markdown",
   "metadata": {
    "colab_type": "text",
    "id": "_fUrAJmuCjG0"
   },
   "source": [
    "#### 15. Crea una matriz de 5x5 con valores 1, 2, 3, 4 justo después de la diagonal."
   ]
  },
  {
   "cell_type": "code",
   "execution_count": 0,
   "metadata": {
    "colab": {
     "base_uri": "https://localhost:8080/",
     "height": 109
    },
    "colab_type": "code",
    "executionInfo": {
     "elapsed": 156,
     "status": "ok",
     "timestamp": 1585430512030,
     "user": {
      "displayName": "Ludim Salo",
      "photoUrl": "",
      "userId": "03840773669080222351"
     },
     "user_tz": 360
    },
    "id": "N7cPSHdGgKCh",
    "outputId": "636181bf-d548-42a1-81de-aa087cd19951"
   },
   "outputs": [
    {
     "data": {
      "text/plain": [
       "array([[8, 1, 2, 7, 7],\n",
       "       [0, 0, 2, 9, 7],\n",
       "       [3, 7, 9, 3, 7],\n",
       "       [1, 6, 7, 4, 4],\n",
       "       [9, 5, 9, 7, 4]])"
      ]
     },
     "execution_count": 8,
     "metadata": {
      "tags": []
     },
     "output_type": "execute_result"
    }
   ],
   "source": [
    "#creamos matriz random 5,5 , 0 al 10 con forma de 5x5\n",
    "mat = np.random.randint (0,10,(5,5))\n",
    "\n",
    "#definir la forma del vector en posicion diagonal  \n",
    "diag = np.arange(4)\n",
    "# [0,1,2,3]\n",
    "\n",
    "#asignacion de valores por posicion \n",
    "mat [diag, diag+1]= [1,2,3,4]\n",
    "# diag las filas y el segundo diag las columnas \n",
    "mat"
   ]
  },
  {
   "cell_type": "markdown",
   "metadata": {
    "colab_type": "text",
    "id": "4YTdQAxaCwqo"
   },
   "source": [
    "#### 16. Normaliza una matriz aleatoria de 5x5"
   ]
  },
  {
   "cell_type": "code",
   "execution_count": 0,
   "metadata": {
    "colab": {},
    "colab_type": "code",
    "id": "gsesZuXugJ_U",
    "outputId": "a382b1c1-8007-4683-c50a-c2b765bfa5f3"
   },
   "outputs": [
    {
     "data": {
      "text/plain": [
       "array([[0.10416667, 0.02083333, 0.1875    , 0.1875    , 0.5       ],\n",
       "       [0.07692308, 0.21794872, 0.25641026, 0.28205128, 0.16666667],\n",
       "       [0.08      , 0.04      , 0.29333333, 0.28      , 0.30666667],\n",
       "       [0.18987342, 0.18987342, 0.08860759, 0.25316456, 0.27848101],\n",
       "       [0.33898305, 0.22033898, 0.18644068, 0.08474576, 0.16949153]])"
      ]
     },
     "execution_count": 446,
     "metadata": {
      "tags": []
     },
     "output_type": "execute_result"
    }
   ],
   "source": [
    "#maximo y minimo y luego \n",
    "e = np.random.randint(0, 25, 25).reshape(5, 5)\n",
    "row_sums = e.sum(axis=1)\n",
    "f = e / row_sums[:, np.newaxis]\n",
    "f"
   ]
  },
  {
   "cell_type": "markdown",
   "metadata": {
    "colab_type": "text",
    "id": "ti93DdAmGVmX"
   },
   "source": [
    "## Ejemplo Práctico\n",
    "\n",
    "1. Carga de datos a partir de un archivo\n",
    "2. Carga de datos a partir de una URL\n",
    "3. Exploración de datos\n",
    "4. Estadisticas\n",
    "5. Graficar información"
   ]
  },
  {
   "cell_type": "code",
   "execution_count": 0,
   "metadata": {
    "colab": {},
    "colab_type": "code",
    "id": "blKiUJv2Xw15"
   },
   "outputs": [],
   "source": [
    "# Crear una carpeta\n",
    "!mkdir data"
   ]
  },
  {
   "cell_type": "code",
   "execution_count": 0,
   "metadata": {
    "colab": {},
    "colab_type": "code",
    "id": "6dpU38VnXw18",
    "outputId": "fa976c1b-77e9-4fe7-d305-add606effb3a"
   },
   "outputs": [
    {
     "name": "stdout",
     "output_type": "stream",
     "text": [
      " El volumen de la unidad C es Windows\n",
      " El n£mero de serie del volumen es: 5695-1FCD\n",
      "\n",
      " Directorio de C:\\Users\\Desarrollador\\Documents\\code\\geggen\\teaching\\data-science\\01DSOnline\\4. Python Cientifico\\Presentaci¢n\n",
      "\n",
      "17/02/2020  04:47 p. m.    <DIR>          .\n",
      "17/02/2020  04:47 p. m.    <DIR>          ..\n",
      "17/02/2020  04:45 p. m.    <DIR>          .ipynb_checkpoints\n",
      "16/02/2020  05:44 p. m.            22,254 Autodiagn¢stico.ipynb\n",
      "17/02/2020  04:47 p. m.    <DIR>          movielens\n",
      "17/02/2020  04:02 p. m.           130,261 NumPy - Creaci¢n y manipulaci¢n de datos num‚ricos - Instructor.ipynb\n",
      "17/02/2020  04:47 p. m.           130,138 NumPy - Creaci¢n y manipulaci¢n de datos num‚ricos.ipynb\n",
      "17/02/2020  04:12 p. m.           311,561 Pandas - Panel Data.ipynb\n",
      "16/02/2020  04:54 p. m.               176 ReadMe.md\n",
      "               5 archivos        594,390 bytes\n",
      "               4 dirs  715,592,286,208 bytes libres\n"
     ]
    }
   ],
   "source": [
    "# Mostrar que carpeta fue creada\n",
    "!dir"
   ]
  },
  {
   "cell_type": "code",
   "execution_count": 0,
   "metadata": {
    "colab": {},
    "colab_type": "code",
    "id": "IvUO1F0EXw2B",
    "outputId": "6a66c765-47ff-4ea2-8972-08ff6cdb731e"
   },
   "outputs": [
    {
     "data": {
      "text/plain": [
       "('data/monthly-precip-2002-2013.csv',\n",
       " <http.client.HTTPMessage at 0x7fe428841208>)"
      ]
     },
     "execution_count": 27,
     "metadata": {
      "tags": []
     },
     "output_type": "execute_result"
    }
   ],
   "source": [
    "# Descargar archivos en carpeta \"data\"\n",
    "import urllib.request # Usar `urllib` para la descarga de archivos\n",
    "\n",
    "# Descargar archivo .txt que contiene el promedio mensual de precipitacion\n",
    "urllib.request.urlretrieve(url = \"https://ndownloader.figshare.com/files/12565616\",\n",
    "                           filename = \"data/avg-monthly-precip.txt\")\n",
    "# Descargar archivo .txt que contiene los nombres por mes\n",
    "urllib.request.urlretrieve(url = \"https://ndownloader.figshare.com/files/12565619\", \n",
    "                           filename = \"data/months.txt\")\n",
    "\n",
    "# Descargar archivo .csv que contiene el promedio mensual de precipitacion\n",
    "urllib.request.urlretrieve(url = \"https://ndownloader.figshare.com/files/12707792\", \n",
    "                           filename = \"data/monthly-precip-2002-2013.csv\")"
   ]
  },
  {
   "cell_type": "code",
   "execution_count": 0,
   "metadata": {
    "colab": {},
    "colab_type": "code",
    "id": "ZJjrMJEjXw2H",
    "outputId": "f6e1154f-51af-46ec-f088-ba2db43ec3ce"
   },
   "outputs": [
    {
     "name": "stdout",
     "output_type": "stream",
     "text": [
      " El volumen de la unidad C es Windows\n",
      " El n£mero de serie del volumen es: 5695-1FCD\n",
      "\n",
      " Directorio de C:\\Users\\Desarrollador\\Documents\\code\\geggen\\teaching\\data-science\\01DSOnline\\4. Python Cientifico\\Presentaci¢n\n",
      "\n"
     ]
    },
    {
     "name": "stderr",
     "output_type": "stream",
     "text": [
      "No se encuentra el archivo\n"
     ]
    }
   ],
   "source": [
    "# Mostar archivos en carpeta data/\n",
    "!dir data"
   ]
  },
  {
   "cell_type": "code",
   "execution_count": 0,
   "metadata": {
    "colab": {},
    "colab_type": "code",
    "id": "brDn38WFXw2M",
    "outputId": "f5d79cec-3b6e-47b3-a8e3-564bf433216a",
    "scrolled": true
   },
   "outputs": [
    {
     "name": "stderr",
     "output_type": "stream",
     "text": [
      "\"cat\" no se reconoce como un comando interno o externo,\n",
      "programa o archivo por lotes ejecutable.\n"
     ]
    }
   ],
   "source": [
    "# Ver contenido de archivo avg-monthly-precip.txt\n",
    "!cat data/avg-monthly-precip.txt"
   ]
  },
  {
   "cell_type": "code",
   "execution_count": 0,
   "metadata": {
    "colab": {},
    "colab_type": "code",
    "id": "5zvMoE_SXw2Q",
    "outputId": "3b23aad8-b641-4205-9cfb-2e509364bd0f"
   },
   "outputs": [
    {
     "name": "stderr",
     "output_type": "stream",
     "text": [
      "\"cat\" no se reconoce como un comando interno o externo,\n",
      "programa o archivo por lotes ejecutable.\n"
     ]
    }
   ],
   "source": [
    "!cat data/monthly-precip-2002-2013.csv"
   ]
  },
  {
   "cell_type": "code",
   "execution_count": 0,
   "metadata": {
    "colab": {},
    "colab_type": "code",
    "id": "N_chR9KHXw2U",
    "outputId": "3ebc18bb-ae7c-4f27-a976-db2bb3665447",
    "scrolled": true
   },
   "outputs": [
    {
     "name": "stdout",
     "output_type": "stream",
     "text": [
      "Jan\r\n",
      "Feb\r\n",
      "Mar\r\n",
      "Apr\r\n",
      "May\r\n",
      "June\r\n",
      "July\r\n",
      "Aug\r\n",
      "Sept\r\n",
      "Oct\r\n",
      "Nov\r\n",
      "Dec"
     ]
    }
   ],
   "source": [
    "! cat data/months.txt"
   ]
  },
  {
   "cell_type": "markdown",
   "metadata": {
    "colab_type": "text",
    "id": "KPoA4iVWXw2Y"
   },
   "source": [
    "##### Carga los siguientes archivos en tres variables diferentes de tipo `np.array`\n",
    "- `avg_monthly_precip`: avg-monthly-precip.txt\n",
    "- `months` = months.txt *Hay que indicar que es de tipo str*\n",
    "- `precip_2002_2013` = monthly-precip-2002-2013.csv *Indicar que está delimitado por \",\"*"
   ]
  },
  {
   "cell_type": "code",
   "execution_count": 0,
   "metadata": {
    "colab": {},
    "colab_type": "code",
    "id": "QC248wZyXw2Z"
   },
   "outputs": [],
   "source": []
  },
  {
   "cell_type": "code",
   "execution_count": 0,
   "metadata": {
    "colab": {},
    "colab_type": "code",
    "id": "Y-Rz4z5rXw2c",
    "outputId": "372c7d18-3f2a-462d-c918-46ca1a9f7eb2"
   },
   "outputs": [
    {
     "data": {
      "text/plain": [
       "(12,)"
      ]
     },
     "execution_count": 146,
     "metadata": {
      "tags": []
     },
     "output_type": "execute_result"
    }
   ],
   "source": [
    "months.shape"
   ]
  },
  {
   "cell_type": "code",
   "execution_count": 0,
   "metadata": {
    "colab": {},
    "colab_type": "code",
    "id": "su7Suu4BXw2h",
    "outputId": "dd07aa57-490e-433c-b6b3-3a1588080522"
   },
   "outputs": [
    {
     "data": {
      "text/plain": [
       "(12,)"
      ]
     },
     "execution_count": 147,
     "metadata": {
      "tags": []
     },
     "output_type": "execute_result"
    }
   ],
   "source": [
    "avg_monthly_precip.shape"
   ]
  },
  {
   "cell_type": "code",
   "execution_count": 0,
   "metadata": {
    "colab": {},
    "colab_type": "code",
    "id": "vEO7FytNXw2l",
    "outputId": "7b4e2d86-8a34-4a68-a7a8-430ee989d682"
   },
   "outputs": [
    {
     "data": {
      "text/plain": [
       "(2, 12)"
      ]
     },
     "execution_count": 148,
     "metadata": {
      "tags": []
     },
     "output_type": "execute_result"
    }
   ],
   "source": [
    "precip_2002_2013.shape"
   ]
  },
  {
   "cell_type": "markdown",
   "metadata": {
    "colab_type": "text",
    "id": "qZsHvqOgXw2p"
   },
   "source": [
    "#### Seleccionar el ultimo elemento de `avg_monthly_precip`"
   ]
  },
  {
   "cell_type": "code",
   "execution_count": 0,
   "metadata": {
    "colab": {},
    "colab_type": "code",
    "id": "gEPt82sOXw2q"
   },
   "outputs": [],
   "source": []
  },
  {
   "cell_type": "markdown",
   "metadata": {
    "colab_type": "text",
    "id": "U1FQfrT6Xw2t"
   },
   "source": [
    "#### Seleccionar el primer elemento de fila 0 columna 0 de `precip_2002_2013`"
   ]
  },
  {
   "cell_type": "code",
   "execution_count": 0,
   "metadata": {
    "colab": {},
    "colab_type": "code",
    "id": "DlCWiREDXw2u",
    "outputId": "479778f9-3ea3-48fa-9c22-2a743dd89bd2"
   },
   "outputs": [
    {
     "data": {
      "text/plain": [
       "1.07"
      ]
     },
     "execution_count": 151,
     "metadata": {
      "tags": []
     },
     "output_type": "execute_result"
    }
   ],
   "source": []
  },
  {
   "cell_type": "markdown",
   "metadata": {
    "colab_type": "text",
    "id": "V6QBobECXw2y"
   },
   "source": [
    "#### Seleccionar el elemento de la última fila y columna `precip_2002_2013`"
   ]
  },
  {
   "cell_type": "code",
   "execution_count": 0,
   "metadata": {
    "colab": {},
    "colab_type": "code",
    "id": "aIncF4-9Xw2y",
    "outputId": "ef879f84-d7b7-4168-a17e-ff8be1c7c863"
   },
   "outputs": [
    {
     "data": {
      "text/plain": [
       "0.5"
      ]
     },
     "execution_count": 315,
     "metadata": {
      "tags": []
     },
     "output_type": "execute_result"
    }
   ],
   "source": []
  },
  {
   "cell_type": "markdown",
   "metadata": {
    "colab_type": "text",
    "id": "7s9naZNVXw23"
   },
   "source": [
    "#### Seleccionar la primer fila y primeras tres columnas de `precip_2002_2013`"
   ]
  },
  {
   "cell_type": "code",
   "execution_count": 0,
   "metadata": {
    "colab": {},
    "colab_type": "code",
    "id": "lfWvmlBPXw24",
    "outputId": "139e7a75-7e86-46e7-e71b-4806f8a8e3ad"
   },
   "outputs": [
    {
     "data": {
      "text/plain": [
       "array([[1.07, 0.44, 1.5 ]])"
      ]
     },
     "execution_count": 316,
     "metadata": {
      "tags": []
     },
     "output_type": "execute_result"
    }
   ],
   "source": []
  },
  {
   "cell_type": "markdown",
   "metadata": {
    "colab_type": "text",
    "id": "DWU_vs-RXw28"
   },
   "source": [
    "#### Reto: Seleccionar las primeras dos fila y las primeras cuatro columnas de `precip_2002_2013`"
   ]
  },
  {
   "cell_type": "code",
   "execution_count": 0,
   "metadata": {
    "colab": {},
    "colab_type": "code",
    "id": "Jw0kR4ZEXw29",
    "outputId": "8bd4b657-4cba-41f3-b19c-460e7e0a1b17"
   },
   "outputs": [
    {
     "data": {
      "text/plain": [
       "array([[1.07, 0.44, 1.5 , 0.2 ],\n",
       "       [0.27, 1.13, 1.72, 4.14]])"
      ]
     },
     "execution_count": 318,
     "metadata": {
      "tags": []
     },
     "output_type": "execute_result"
    }
   ],
   "source": []
  },
  {
   "cell_type": "markdown",
   "metadata": {
    "colab_type": "text",
    "id": "5xunqXSIXw3C"
   },
   "source": [
    "#### Seleccionar la primer fila y todas las columnas de `precip_2002_2013` almacenar en `precip_2002`"
   ]
  },
  {
   "cell_type": "code",
   "execution_count": 0,
   "metadata": {
    "colab": {},
    "colab_type": "code",
    "id": "VaDK9zSIXw3D",
    "outputId": "06f5a002-4b68-4d2b-fc24-ab1686f6f9d8"
   },
   "outputs": [
    {
     "name": "stdout",
     "output_type": "stream",
     "text": [
      "[[ 1.07  0.44  1.5   0.2   3.2   1.18  0.09  1.44  1.52  2.44  0.78  0.02]\n",
      " [ 0.27  1.13  1.72  4.14  2.66  0.61  1.03  1.4  18.16  2.24  0.29  0.5 ]] \n",
      " [[1.07 0.44 1.5  0.2  3.2  1.18 0.09 1.44 1.52 2.44 0.78 0.02]]\n"
     ]
    }
   ],
   "source": []
  },
  {
   "cell_type": "markdown",
   "metadata": {
    "colab_type": "text",
    "id": "gtBOrnJgXw3M"
   },
   "source": [
    "#### Reto: Mostrar la dimensión de `precip_2002`"
   ]
  },
  {
   "cell_type": "code",
   "execution_count": 0,
   "metadata": {
    "colab": {},
    "colab_type": "code",
    "id": "tiXfFFVqXw3N",
    "outputId": "2c34e298-f47f-466a-b4f0-37d30b3bf6bd"
   },
   "outputs": [
    {
     "data": {
      "text/plain": [
       "(1, 12)"
      ]
     },
     "execution_count": 328,
     "metadata": {
      "tags": []
     },
     "output_type": "execute_result"
    }
   ],
   "source": [
    "precip_2002.shape"
   ]
  },
  {
   "cell_type": "markdown",
   "metadata": {
    "colab_type": "text",
    "id": "EjcG0q_aXw3R"
   },
   "source": [
    "#### Asignar `avg_monthly_precip` el resultado de mutiplicar cada elemento del vector `avg_monthly_precip` por 25.4"
   ]
  },
  {
   "cell_type": "code",
   "execution_count": 0,
   "metadata": {
    "colab": {},
    "colab_type": "code",
    "id": "naJon9lsXw3S"
   },
   "outputs": [],
   "source": []
  },
  {
   "cell_type": "markdown",
   "metadata": {
    "colab_type": "text",
    "id": "2nIp0VNiXw3V"
   },
   "source": [
    "#### Reto: Calcular la media de `avg_monthly_precip` y asignar a una nueva variable"
   ]
  },
  {
   "cell_type": "code",
   "execution_count": 0,
   "metadata": {
    "colab": {},
    "colab_type": "code",
    "id": "TD4-K5nVXw3V",
    "outputId": "ac1bd5c6-13dd-417c-c48c-f932bbb1eea4"
   },
   "outputs": [
    {
     "name": "stdout",
     "output_type": "stream",
     "text": [
      "mean of average monthly precipitation: 42.820166666666665\n"
     ]
    }
   ],
   "source": []
  },
  {
   "cell_type": "markdown",
   "metadata": {
    "colab_type": "text",
    "id": "7rTr2XrFXw3b"
   },
   "source": [
    "#### Reto: Encontrar el valor mínimo y máximo de `avg_monthly_precip`"
   ]
  },
  {
   "cell_type": "code",
   "execution_count": 0,
   "metadata": {
    "colab": {},
    "colab_type": "code",
    "id": "Fpr2ZySEXw3b",
    "outputId": "300d4b51-0027-472a-e618-a3500b33e9ee"
   },
   "outputs": [
    {
     "name": "stdout",
     "output_type": "stream",
     "text": [
      "Precipitación media mensual\n",
      "Valor mínimo: 17.779999999999998\n",
      "Valor máximo: 77.46999999999998\n"
     ]
    }
   ],
   "source": []
  },
  {
   "cell_type": "markdown",
   "metadata": {
    "colab_type": "text",
    "id": "uL3kzu1zXw3f"
   },
   "source": [
    "#### Graficar `avg_monthly_precip`"
   ]
  },
  {
   "cell_type": "code",
   "execution_count": 0,
   "metadata": {
    "colab": {},
    "colab_type": "code",
    "id": "t51NYUDvXw3g",
    "outputId": "6a4a95c7-4c64-4f58-88a1-b1812157886e"
   },
   "outputs": [
    {
     "data": {
      "text/plain": [
       "[Text(0,0.5,'Precipitación (mm)'), Text(0.5,0,'Mes')]"
      ]
     },
     "execution_count": 366,
     "metadata": {
      "tags": []
     },
     "output_type": "execute_result"
    },
    {
     "data": {
      "image/png": "[encoded data removed]",
      "text/plain": [
       "<Figure size 360x360 with 1 Axes>"
      ]
     },
     "metadata": {
      "tags": []
     },
     "output_type": "display_data"
    }
   ],
   "source": []
  },
  {
   "cell_type": "markdown",
   "metadata": {
    "colab_type": "text",
    "id": "sXEqY3WaGXrB"
   },
   "source": [
    "## Aplicación"
   ]
  },
  {
   "cell_type": "markdown",
   "metadata": {
    "colab_type": "text",
    "id": "7FtjGiXmG8nB"
   },
   "source": [
    "### Simulación del Juego de la Vida (vídeo)\n",
    "\n",
    "* ¿Qué es? y ¿Para qué es?\n",
    "* ¿Cómo funciona?\n",
    "* Código en acción"
   ]
  },
  {
   "cell_type": "markdown",
   "metadata": {
    "colab_type": "text",
    "id": "-GmU1-U3xuDf"
   },
   "source": [
    "##### ¿Qué es? y ¿Para qué es?\n",
    "[Ver vídeo con preguntas](https://edpuzzle.com/media/5eb4f2c538e8623f9d9ceced)"
   ]
  },
  {
   "cell_type": "code",
   "execution_count": 7,
   "metadata": {
    "colab": {
     "base_uri": "https://localhost:8080/",
     "height": 336
    },
    "colab_type": "code",
    "executionInfo": {
     "elapsed": 490,
     "status": "ok",
     "timestamp": 1588917780136,
     "user": {
      "displayName": "Ludim Salo",
      "photoUrl": "",
      "userId": "03840773669080222351"
     },
     "user_tz": 300
    },
    "id": "iEyvynwhzo0q",
    "outputId": "67b8735c-e650-44ab-acd3-2917a5736ee1"
   },
   "outputs": [
    {
     "data": {
      "text/html": [
       "<iframe width=\"560\" height=\"315\" src=\"https://www.youtube.com/embed/OWXD_wJxCKQ\" frameborder=\"0\" allow=\"accelerometer; autoplay; encrypted-media; gyroscope; picture-in-picture\" allowfullscreen></iframe>"
      ],
      "text/plain": [
       "<IPython.core.display.HTML object>"
      ]
     },
     "metadata": {
      "tags": []
     },
     "output_type": "display_data"
    }
   ],
   "source": [
    "%%html\n",
    "<iframe width=\"560\" height=\"315\" src=\"https://www.youtube.com/embed/OWXD_wJxCKQ\" frameborder=\"0\" allow=\"accelerometer; autoplay; encrypted-media; gyroscope; picture-in-picture\" allowfullscreen></iframe>"
   ]
  },
  {
   "cell_type": "markdown",
   "metadata": {
    "colab_type": "text",
    "id": "wVTy1AsP4eYr"
   },
   "source": [
    "##### ¿Cómo funciona?"
   ]
  },
  {
   "cell_type": "markdown",
   "metadata": {
    "colab_type": "text",
    "id": "PGc2f5zvyhhy"
   },
   "source": [
    "El juego de la vida consiste en una matriz de i * j (\" i \", filas; \" j \", columnas). Cada celda presenta solamente 2 estados.\n",
    "\n",
    "Estados de una celda:\n",
    "\n",
    "    Viva  ( 1 ) o encendida.\n",
    "    Muerta ( 0 ) o apagada.\n",
    "\n",
    "Para que una celda presente cualquier estado mencionado (viva o muerta), se siguen unas reglas muy sencillas las cuales son las siguientes:\n",
    "\n",
    "Si...\n",
    "\n",
    "    n < 2, la celda muere ( 0).\n",
    "    n > 3, la celda muere ( 0 ).\n",
    "    n = 3, la celda nace ( 1).\n",
    "\n",
    "Si una celda esta viva, esta podrá permanecer viva, si, y solamente si:\n",
    "\n",
    "    n = 2 ó n = 3, la celda vive ( 1 ).\n",
    "\n",
    "donde **n**, es el número de celdas vecinas, de **x** celda.\n",
    "\n",
    "Si, aunque no lo creas, estas pequeñas reglas, pueden generar figuras maravillosas, y un reto interesante de programación (o tal vez un dolor de cabeza)."
   ]
  },
  {
   "cell_type": "markdown",
   "metadata": {
    "colab_type": "text",
    "id": "MTlvCeTJ19uJ"
   },
   "source": [
    "##### Código en acción"
   ]
  },
  {
   "cell_type": "code",
   "execution_count": 9,
   "metadata": {
    "colab": {
     "base_uri": "https://localhost:8080/",
     "height": 336
    },
    "colab_type": "code",
    "executionInfo": {
     "elapsed": 429,
     "status": "ok",
     "timestamp": 1588917904517,
     "user": {
      "displayName": "Ludim Salo",
      "photoUrl": "",
      "userId": "03840773669080222351"
     },
     "user_tz": 300
    },
    "id": "ctejgUJN0zBK",
    "outputId": "f6a46bf6-23e3-4a31-f341-b82ea0013c4a"
   },
   "outputs": [
    {
     "data": {
      "text/html": [
       "<iframe width=\"560\" height=\"315\" src=\"https://www.youtube.com/embed/qPtKv9fSHZY\" frameborder=\"0\" allow=\"accelerometer; autoplay; encrypted-media; gyroscope; picture-in-picture\" allowfullscreen></iframe>"
      ],
      "text/plain": [
       "<IPython.core.display.HTML object>"
      ]
     },
     "metadata": {
      "tags": []
     },
     "output_type": "display_data"
    }
   ],
   "source": [
    "%%html\n",
    "<iframe width=\"560\" height=\"315\" src=\"https://www.youtube.com/embed/qPtKv9fSHZY\" frameborder=\"0\" allow=\"accelerometer; autoplay; encrypted-media; gyroscope; picture-in-picture\" allowfullscreen></iframe>"
   ]
  },
  {
   "cell_type": "markdown",
   "metadata": {
    "colab_type": "text",
    "id": "SdGH9jsa40I_"
   },
   "source": [
    "[Implementación del Juego de la Vida en C](http://sisadap-ludim.blogspot.com/2013/08/evidencia-2-juego-de-la-vida.html)"
   ]
  }
 ],
 "metadata": {
  "colab": {
   "collapsed_sections": [
    "k9lbmdNPYTuD",
    "yVIejGIHXw3k",
    "R0lp210pXw3p",
    "dtHJ6v3ZXw3t",
    "6wLSzCi4Xw3x",
    "qkI7y8WDXw33",
    "72xU-25UgQFG",
    "UPYsCQFJgQwA",
    "rHI3QxeOhE3-",
    "gvNrTraKgSZh",
    "TwNsufyigTCG",
    "l9wHdeTygTTW",
    "xh5IJIeAgThu",
    "Wo4p6o7DB5XQ",
    "_fUrAJmuCjG0",
    "4YTdQAxaCwqo",
    "ti93DdAmGVmX",
    "sXEqY3WaGXrB",
    "7FtjGiXmG8nB",
    "-GmU1-U3xuDf",
    "wVTy1AsP4eYr"
   ],
   "name": "Sesión 2.ipynb",
   "provenance": [
    {
     "file_id": "1ljAmKIoXK8UL3l3FTxBgQpM4hDVf0Irv",
     "timestamp": 1556666988185
    }
   ]
  },
  "kernelspec": {
   "display_name": "Python 3",
   "language": "python",
   "name": "python3"
  },
  "language_info": {
   "codemirror_mode": {
    "name": "ipython",
    "version": 3
   },
   "file_extension": ".py",
   "mimetype": "text/x-python",
   "name": "python",
   "nbconvert_exporter": "python",
   "pygments_lexer": "ipython3",
   "version": "3.7.6"
  }
 },
 "nbformat": 4,
 "nbformat_minor": 1
}
