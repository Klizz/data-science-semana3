{
 "cells": [
  {
   "cell_type": "markdown",
   "metadata": {
    "colab_type": "text",
    "id": "bLXZ6IJTUe2K"
   },
   "source": [
    "# NumPy: Creación y manipulación de datos numéricos"
   ]
  },
  {
   "cell_type": "code",
   "execution_count": 1,
   "metadata": {
    "colab": {},
    "colab_type": "code",
    "id": "POwRyMXxMEAr"
   },
   "outputs": [],
   "source": [
    "import numpy as np"
   ]
  },
  {
   "cell_type": "markdown",
   "metadata": {
    "colab_type": "raw",
    "id": "p83yqoNZbVzR"
   },
   "source": [
    "## Funciones importantes de numpy"
   ]
  },
  {
   "cell_type": "markdown",
   "metadata": {
    "colab_type": "text",
    "id": "ouhcPfSKjtBS"
   },
   "source": [
    "### Definir un vector\n",
    "\n",
    "```\n",
    "vector=np.array([[elemento1],[elemento2],[elemento3]])\n",
    "vector=np.array([elemento1,elemento2,elemento3])\n",
    "```\n",
    "\n",
    "La manera más fácil de crear un arreglo es convertir a partir de una lista predeterminada usando el comando `array`."
   ]
  },
  {
   "cell_type": "code",
   "execution_count": 2,
   "metadata": {
    "colab": {
     "base_uri": "https://localhost:8080/",
     "height": 54
    },
    "colab_type": "code",
    "executionInfo": {
     "elapsed": 333,
     "status": "ok",
     "timestamp": 1589009639291,
     "user": {
      "displayName": "Ludim Salo",
      "photoUrl": "",
      "userId": "03840773669080222351"
     },
     "user_tz": 300
    },
    "id": "xehE7RloD4Jc",
    "outputId": "e85c15e2-35be-4036-d0c1-f6fc15cfa183"
   },
   "outputs": [
    {
     "name": "stdout",
     "output_type": "stream",
     "text": [
      "[  12  132 1332]\n",
      "[1. 2. 3. 4.]\n"
     ]
    }
   ],
   "source": [
    "vector1=np.array([3, 33, 333])*4\n",
    "print(vector1)\n",
    "\n",
    "vector2=np.array([1, 2, 3, 4], dtype='float32')\n",
    "print(vector2)"
   ]
  },
  {
   "cell_type": "markdown",
   "metadata": {
    "colab_type": "text",
    "id": "fSIq14h_d2tB"
   },
   "source": [
    "### Definir una matriz\n",
    "Ahora definamos un arreglo bidimensional, algo parecido a una matriz: ahora tenemos renglones y columnas. \n",
    "\n",
    "De igual manera podemos definirlo de igual manera con el comando `array` y una serie de listas que seran interpretadas como las filas de nuestros arreglos\n",
    "```\n",
    "matriz=np.array([\n",
    "  [elemento1],[elemento2],[elemento3],\n",
    "  [elemento1],[elemento2],[elemento3]\n",
    "])\n",
    "```"
   ]
  },
  {
   "cell_type": "code",
   "execution_count": 3,
   "metadata": {
    "colab": {
     "base_uri": "https://localhost:8080/",
     "height": 72
    },
    "colab_type": "code",
    "executionInfo": {
     "elapsed": 353,
     "status": "ok",
     "timestamp": 1589009619096,
     "user": {
      "displayName": "Ludim Salo",
      "photoUrl": "",
      "userId": "03840773669080222351"
     },
     "user_tz": 300
    },
    "id": "3rRhemhzGO_7",
    "outputId": "d370dbc9-dad4-4e0f-9bc2-6d128a405835"
   },
   "outputs": [
    {
     "name": "stdout",
     "output_type": "stream",
     "text": [
      "[[11 12 13]\n",
      " [21 22 23]]\n",
      "\n"
     ]
    }
   ],
   "source": [
    "#Arreglo bidimensional\n",
    "matriz=np.array([[11,12,13],[21,22,23]])\n",
    "print(matriz)\n",
    "print()"
   ]
  },
  {
   "cell_type": "code",
   "execution_count": 5,
   "metadata": {
    "colab": {
     "base_uri": "https://localhost:8080/",
     "height": 72
    },
    "colab_type": "code",
    "executionInfo": {
     "elapsed": 311,
     "status": "ok",
     "timestamp": 1589009621036,
     "user": {
      "displayName": "Ludim Salo",
      "photoUrl": "",
      "userId": "03840773669080222351"
     },
     "user_tz": 300
    },
    "id": "EBtt5jjktVFr",
    "outputId": "d0384536-9f9b-4d51-9f3a-ae424b5cba55"
   },
   "outputs": [
    {
     "data": {
      "text/plain": [
       "array([[8, 4, 3, 3],\n",
       "       [2, 8, 9, 3],\n",
       "       [5, 7, 0, 6]])"
      ]
     },
     "execution_count": 5,
     "metadata": {},
     "output_type": "execute_result"
    }
   ],
   "source": [
    "# Matriz con elementos aleatorios\n",
    "np.random.randint(10, size=(3, 4))"
   ]
  },
  {
   "cell_type": "code",
   "execution_count": 8,
   "metadata": {
    "colab": {
     "base_uri": "https://localhost:8080/",
     "height": 54
    },
    "colab_type": "code",
    "executionInfo": {
     "elapsed": 309,
     "status": "ok",
     "timestamp": 1589009624962,
     "user": {
      "displayName": "Ludim Salo",
      "photoUrl": "",
      "userId": "03840773669080222351"
     },
     "user_tz": 300
    },
    "id": "D0WOXn6KBa1s",
    "outputId": "a0367358-83e1-4a05-a858-de23da47eb3b"
   },
   "outputs": [
    {
     "name": "stdout",
     "output_type": "stream",
     "text": [
      "[0 1 2 3 4 5 6 7 8 9]\n",
      "[ 2  3  4  5  6  7  8  9 10 11]\n",
      "[ 3  4  5  6  7  8  9 10 11 12 13 14]\n"
     ]
    }
   ],
   "source": [
    "# Creamos unos arreglo para unas pruebas\n",
    "A=np.arange(10)\n",
    "print(A)\n",
    "B=np.arange(2,12)\n",
    "print(B)\n",
    "C=np.arange(3,15)\n",
    "print(C)"
   ]
  },
  {
   "cell_type": "markdown",
   "metadata": {
    "colab_type": "text",
    "id": "IVmV8FqMd20y"
   },
   "source": [
    "### Dimensión de vector o matriz\n",
    "\n",
    "```\n",
    "np.shape(vector)\n",
    "np.shape(matriz)\n",
    "```"
   ]
  },
  {
   "cell_type": "code",
   "execution_count": 9,
   "metadata": {
    "colab": {
     "base_uri": "https://localhost:8080/",
     "height": 54
    },
    "colab_type": "code",
    "executionInfo": {
     "elapsed": 402,
     "status": "ok",
     "timestamp": 1589009658243,
     "user": {
      "displayName": "Ludim Salo",
      "photoUrl": "",
      "userId": "03840773669080222351"
     },
     "user_tz": 300
    },
    "id": "syTbL9TceImB",
    "outputId": "7d6b3558-487e-4e97-894f-f054df373f85"
   },
   "outputs": [
    {
     "name": "stdout",
     "output_type": "stream",
     "text": [
      "[  12  132 1332]\n",
      "(3,)\n"
     ]
    }
   ],
   "source": [
    "# Método shape \n",
    "print(vector1)\n",
    "print(vector1.shape)"
   ]
  },
  {
   "cell_type": "code",
   "execution_count": 10,
   "metadata": {
    "colab": {
     "base_uri": "https://localhost:8080/",
     "height": 72
    },
    "colab_type": "code",
    "executionInfo": {
     "elapsed": 385,
     "status": "ok",
     "timestamp": 1589009668850,
     "user": {
      "displayName": "Ludim Salo",
      "photoUrl": "",
      "userId": "03840773669080222351"
     },
     "user_tz": 300
    },
    "id": "CN0fUm9hiSpg",
    "outputId": "46b2e692-ffc2-4879-c5f4-2662f20ed899"
   },
   "outputs": [
    {
     "name": "stdout",
     "output_type": "stream",
     "text": [
      "[[11 12 13]\n",
      " [21 22 23]]\n",
      "(2, 3)\n"
     ]
    }
   ],
   "source": [
    "# Método shape \n",
    "print(matriz)\n",
    "print(matriz.shape)"
   ]
  },
  {
   "cell_type": "code",
   "execution_count": 11,
   "metadata": {
    "colab": {
     "base_uri": "https://localhost:8080/",
     "height": 35
    },
    "colab_type": "code",
    "executionInfo": {
     "elapsed": 372,
     "status": "ok",
     "timestamp": 1589009673548,
     "user": {
      "displayName": "Ludim Salo",
      "photoUrl": "",
      "userId": "03840773669080222351"
     },
     "user_tz": 300
    },
    "id": "igC8LNk_eMSR",
    "outputId": "adb1d538-5c3c-4247-e461-3daeb1f5ceb1"
   },
   "outputs": [
    {
     "name": "stdout",
     "output_type": "stream",
     "text": [
      "3\n"
     ]
    }
   ],
   "source": [
    "# Método size\n",
    "print(vector1.size)"
   ]
  },
  {
   "cell_type": "code",
   "execution_count": 12,
   "metadata": {
    "colab": {
     "base_uri": "https://localhost:8080/",
     "height": 35
    },
    "colab_type": "code",
    "executionInfo": {
     "elapsed": 394,
     "status": "ok",
     "timestamp": 1589009675911,
     "user": {
      "displayName": "Ludim Salo",
      "photoUrl": "",
      "userId": "03840773669080222351"
     },
     "user_tz": 300
    },
    "id": "-iytZUIbiTEd",
    "outputId": "eb595bf6-e2ab-461a-d565-07a4dea15d0f"
   },
   "outputs": [
    {
     "name": "stdout",
     "output_type": "stream",
     "text": [
      "6\n"
     ]
    }
   ],
   "source": [
    "# Método size\n",
    "print(matriz.size)"
   ]
  },
  {
   "cell_type": "code",
   "execution_count": 13,
   "metadata": {
    "colab": {
     "base_uri": "https://localhost:8080/",
     "height": 54
    },
    "colab_type": "code",
    "executionInfo": {
     "elapsed": 383,
     "status": "ok",
     "timestamp": 1589009681866,
     "user": {
      "displayName": "Ludim Salo",
      "photoUrl": "",
      "userId": "03840773669080222351"
     },
     "user_tz": 300
    },
    "id": "B7gQscJPigNy",
    "outputId": "e6f5c4a8-72a6-4a57-e328-09a351ae7b5e"
   },
   "outputs": [
    {
     "name": "stdout",
     "output_type": "stream",
     "text": [
      "1\n",
      "2\n"
     ]
    }
   ],
   "source": [
    "print(vector1.ndim)\n",
    "print(matriz.ndim)"
   ]
  },
  {
   "cell_type": "markdown",
   "metadata": {
    "colab_type": "text",
    "id": "KOWqi5wqxd38"
   },
   "source": [
    "### Selección de datos\n",
    "Podemos seleccionar ciertos datos dentro de un arreglo usando índices de manera semejante a las listas, pero no es igual"
   ]
  },
  {
   "cell_type": "code",
   "execution_count": 16,
   "metadata": {
    "colab": {
     "base_uri": "https://localhost:8080/",
     "height": 191
    },
    "colab_type": "code",
    "executionInfo": {
     "elapsed": 877,
     "status": "error",
     "timestamp": 1589245503894,
     "user": {
      "displayName": "Ludim Salo",
      "photoUrl": "",
      "userId": "03840773669080222351"
     },
     "user_tz": 300
    },
    "id": "12QSRClLE-L0",
    "outputId": "99540876-5e54-40c6-d90e-fff98534d67b"
   },
   "outputs": [
    {
     "ename": "NameError",
     "evalue": "name 'matrix_numpy' is not defined",
     "output_type": "error",
     "traceback": [
      "\u001b[0;31m---------------------------------------------------------------------------\u001b[0m",
      "\u001b[0;31mNameError\u001b[0m                                 Traceback (most recent call last)",
      "\u001b[0;32m<ipython-input-16-b12b53b078ee>\u001b[0m in \u001b[0;36m<module>\u001b[0;34m\u001b[0m\n\u001b[1;32m      1\u001b[0m \u001b[0;31m# Tercer elemento de la cuarta fila\u001b[0m\u001b[0;34m\u001b[0m\u001b[0;34m\u001b[0m\u001b[0;34m\u001b[0m\u001b[0m\n\u001b[0;32m----> 2\u001b[0;31m \u001b[0ma1\u001b[0m\u001b[0;34m=\u001b[0m\u001b[0mmatrix_numpy\u001b[0m\u001b[0;34m[\u001b[0m\u001b[0;36m2\u001b[0m\u001b[0;34m,\u001b[0m\u001b[0;36m3\u001b[0m\u001b[0;34m]\u001b[0m\u001b[0;34m\u001b[0m\u001b[0;34m\u001b[0m\u001b[0m\n\u001b[0m\u001b[1;32m      3\u001b[0m \u001b[0mprint\u001b[0m\u001b[0;34m(\u001b[0m\u001b[0ma1\u001b[0m\u001b[0;34m)\u001b[0m\u001b[0;34m\u001b[0m\u001b[0;34m\u001b[0m\u001b[0m\n",
      "\u001b[0;31mNameError\u001b[0m: name 'matrix_numpy' is not defined"
     ]
    }
   ],
   "source": [
    "# Tercer elemento de la cuarta fila \n",
    "a1=matrix_numpy[2,3]\n",
    "print(a1)"
   ]
  },
  {
   "cell_type": "code",
   "execution_count": 15,
   "metadata": {
    "colab": {
     "base_uri": "https://localhost:8080/",
     "height": 191
    },
    "colab_type": "code",
    "executionInfo": {
     "elapsed": 588,
     "status": "error",
     "timestamp": 1589245519004,
     "user": {
      "displayName": "Ludim Salo",
      "photoUrl": "",
      "userId": "03840773669080222351"
     },
     "user_tz": 300
    },
    "id": "jz_a6PBfHU1W",
    "outputId": "21b207f6-e4c3-43ae-d9a6-b8f559f98fcd"
   },
   "outputs": [
    {
     "ename": "NameError",
     "evalue": "name 'matrix_numpy' is not defined",
     "output_type": "error",
     "traceback": [
      "\u001b[0;31m---------------------------------------------------------------------------\u001b[0m",
      "\u001b[0;31mNameError\u001b[0m                                 Traceback (most recent call last)",
      "\u001b[0;32m<ipython-input-15-1cdc49ef2752>\u001b[0m in \u001b[0;36m<module>\u001b[0;34m\u001b[0m\n\u001b[1;32m      1\u001b[0m \u001b[0;31m# Cuarta fila\u001b[0m\u001b[0;34m\u001b[0m\u001b[0;34m\u001b[0m\u001b[0;34m\u001b[0m\u001b[0m\n\u001b[0;32m----> 2\u001b[0;31m \u001b[0ma2\u001b[0m\u001b[0;34m=\u001b[0m\u001b[0mmatrix_numpy\u001b[0m\u001b[0;34m[\u001b[0m\u001b[0;36m3\u001b[0m\u001b[0;34m,\u001b[0m\u001b[0;34m:\u001b[0m\u001b[0;34m]\u001b[0m\u001b[0;34m\u001b[0m\u001b[0;34m\u001b[0m\u001b[0m\n\u001b[0m\u001b[1;32m      3\u001b[0m \u001b[0mprint\u001b[0m\u001b[0;34m(\u001b[0m\u001b[0ma2\u001b[0m\u001b[0;34m)\u001b[0m\u001b[0;34m\u001b[0m\u001b[0;34m\u001b[0m\u001b[0m\n",
      "\u001b[0;31mNameError\u001b[0m: name 'matrix_numpy' is not defined"
     ]
    }
   ],
   "source": [
    "# Cuarta fila\n",
    "a2=matrix_numpy[3,:]\n",
    "print(a2)\n"
   ]
  },
  {
   "cell_type": "code",
   "execution_count": 0,
   "metadata": {
    "colab": {},
    "colab_type": "code",
    "id": "923ilASiydZu"
   },
   "outputs": [],
   "source": [
    "# Quinta columna\n",
    "a3=matrix_numpy[:,5]\n",
    "print(a3)"
   ]
  },
  {
   "cell_type": "code",
   "execution_count": 3,
   "metadata": {
    "colab": {
     "base_uri": "https://localhost:8080/",
     "height": 191
    },
    "colab_type": "code",
    "executionInfo": {
     "elapsed": 680,
     "status": "error",
     "timestamp": 1589245504862,
     "user": {
      "displayName": "Ludim Salo",
      "photoUrl": "",
      "userId": "03840773669080222351"
     },
     "user_tz": 300
    },
    "id": "S24c70fDXwy5",
    "outputId": "0f6c3884-3015-4408-acd0-3c9fb4376050"
   },
   "outputs": [
    {
     "ename": "NameError",
     "evalue": "ignored",
     "output_type": "error",
     "traceback": [
      "\u001b[0;31m---------------------------------------------------------------------------\u001b[0m",
      "\u001b[0;31mNameError\u001b[0m                                 Traceback (most recent call last)",
      "\u001b[0;32m<ipython-input-3-d4d486bb4d4a>\u001b[0m in \u001b[0;36m<module>\u001b[0;34m()\u001b[0m\n\u001b[0;32m----> 1\u001b[0;31m \u001b[0mmatrix_int\u001b[0m \u001b[0;34m=\u001b[0m \u001b[0mnp\u001b[0m\u001b[0;34m.\u001b[0m\u001b[0mrandom\u001b[0m\u001b[0;34m.\u001b[0m\u001b[0mrandint\u001b[0m\u001b[0;34m(\u001b[0m\u001b[0;36m1000\u001b[0m\u001b[0;34m,\u001b[0m \u001b[0msize\u001b[0m\u001b[0;34m=\u001b[0m\u001b[0;36m100\u001b[0m\u001b[0;34m)\u001b[0m\u001b[0;34m\u001b[0m\u001b[0;34m\u001b[0m\u001b[0m\n\u001b[0m\u001b[1;32m      2\u001b[0m \u001b[0mprint\u001b[0m\u001b[0;34m(\u001b[0m\u001b[0mmatrix_int\u001b[0m\u001b[0;34m)\u001b[0m\u001b[0;34m\u001b[0m\u001b[0;34m\u001b[0m\u001b[0m\n",
      "\u001b[0;31mNameError\u001b[0m: name 'np' is not defined"
     ]
    }
   ],
   "source": [
    "# Cree una matriz de numeros enteros\n",
    "matrix_int = np.random.randint(1000, size=100)\n",
    "print(matrix_int)"
   ]
  },
  {
   "cell_type": "code",
   "execution_count": 0,
   "metadata": {
    "colab": {
     "base_uri": "https://localhost:8080/",
     "height": 170
    },
    "colab_type": "code",
    "executionInfo": {
     "elapsed": 280,
     "status": "ok",
     "timestamp": 1556000030197,
     "user": {
      "displayName": "Manuel Ferrer",
      "photoUrl": "",
      "userId": "01378850988778114649"
     },
     "user_tz": 300
    },
    "id": "R1cmu9inHoD8",
    "outputId": "0c56dee6-9a9b-4fcc-89c1-6a1d085441cf"
   },
   "outputs": [
    {
     "name": "stdout",
     "output_type": "stream",
     "text": [
      "Arreglo de valores boleanos\n",
      "[False False  True  True  True  True False  True  True False  True False\n",
      " False  True False  True False  True False  True  True False  True False\n",
      "  True False  True False False  True False False False  True  True  True\n",
      "  True  True  True  True False  True  True False  True False False  True\n",
      " False  True  True  True False  True False False  True  True  True  True\n",
      " False False  True  True False  True  True False  True  True False False\n",
      " False  True False  True  True  True  True  True False  True  True  True\n",
      " False  True False False  True  True  True  True  True  True False  True\n",
      " False False False  True]\n",
      "\n",
      "[352 832 874  70   4 764 246  78 126 634 734 530 508  70 360 212 196   2\n",
      " 686 650 936 328 810 112 158  42 798 750 664 776  88 602 318 926 154  18\n",
      " 982 770 644 404 684 866 366  74  76 980 546 572 338  40 900 536 916 578\n",
      "  20 348 510 348 600]\n"
     ]
    }
   ],
   "source": [
    "# De igual manera podemos comparar los elementos de un array y usar el resultado para filtrar \n",
    "\n",
    "#Seleccionamos a todos los pares\n",
    "a5b=matrix_int % 2==0\n",
    "print('Arreglo de valores boleanos')\n",
    "print(a5b)\n",
    "print()\n",
    "\n",
    "#Arreglo de los valores dados por el filtro\n",
    "a5=matrix_int[a5b]\n",
    "print(a5)"
   ]
  },
  {
   "cell_type": "markdown",
   "metadata": {
    "colab_type": "text",
    "id": "4qw-EvKHp-8h"
   },
   "source": [
    "#### Responder las siguientes preguntas \n",
    "\n",
    "* ¿Diferencias entre `shape` y `size`? \n",
    "\n",
    "* ¿Qué se indica primero en `shape`: el número de columnas o el numero de filas?\n"
   ]
  },
  {
   "cell_type": "markdown",
   "metadata": {
    "colab_type": "text",
    "id": "6ihZrb0yd28_"
   },
   "source": [
    "### Producto Punto\n",
    "```\n",
    "vector.dot(vector)\n",
    "```"
   ]
  },
  {
   "cell_type": "code",
   "execution_count": 0,
   "metadata": {
    "colab": {
     "base_uri": "https://localhost:8080/",
     "height": 35
    },
    "colab_type": "code",
    "executionInfo": {
     "elapsed": 378,
     "status": "ok",
     "timestamp": 1588912560729,
     "user": {
      "displayName": "Ludim Salo",
      "photoUrl": "",
      "userId": "03840773669080222351"
     },
     "user_tz": 300
    },
    "id": "_FpS5UlNkVUz",
    "outputId": "6d4e7667-8727-46be-b9ab-f9d3abf303d9"
   },
   "outputs": [
    {
     "data": {
      "text/plain": [
       "1791792"
      ]
     },
     "execution_count": 21,
     "metadata": {
      "tags": []
     },
     "output_type": "execute_result"
    }
   ],
   "source": [
    "arreglo.dot(arreglo)"
   ]
  },
  {
   "cell_type": "code",
   "execution_count": 0,
   "metadata": {
    "colab": {
     "base_uri": "https://localhost:8080/",
     "height": 172
    },
    "colab_type": "code",
    "executionInfo": {
     "elapsed": 469,
     "status": "error",
     "timestamp": 1588948684809,
     "user": {
      "displayName": "Ludim Salo",
      "photoUrl": "",
      "userId": "03840773669080222351"
     },
     "user_tz": 300
    },
    "id": "muQGUm01THv_",
    "outputId": "9780acc9-122a-44cd-921f-62d20e0f42a4"
   },
   "outputs": [
    {
     "ename": "NameError",
     "evalue": "ignored",
     "output_type": "error",
     "traceback": [
      "\u001b[0;31m---------------------------------------------------------------------------\u001b[0m",
      "\u001b[0;31mNameError\u001b[0m                                 Traceback (most recent call last)",
      "\u001b[0;32m<ipython-input-1-1252991f5f76>\u001b[0m in \u001b[0;36m<module>\u001b[0;34m()\u001b[0m\n\u001b[0;32m----> 1\u001b[0;31m \u001b[0mprint\u001b[0m\u001b[0;34m(\u001b[0m\u001b[0mnp\u001b[0m\u001b[0;34m.\u001b[0m\u001b[0mdot\u001b[0m\u001b[0;34m(\u001b[0m\u001b[0marreglo\u001b[0m\u001b[0;34m,\u001b[0m\u001b[0marreglo\u001b[0m\u001b[0;34m)\u001b[0m\u001b[0;34m)\u001b[0m\u001b[0;34m\u001b[0m\u001b[0;34m\u001b[0m\u001b[0m\n\u001b[0m",
      "\u001b[0;31mNameError\u001b[0m: name 'np' is not defined"
     ]
    }
   ],
   "source": [
    "print(np.dot(arreglo,arreglo))"
   ]
  },
  {
   "cell_type": "code",
   "execution_count": 0,
   "metadata": {
    "colab": {
     "base_uri": "https://localhost:8080/",
     "height": 35
    },
    "colab_type": "code",
    "executionInfo": {
     "elapsed": 438,
     "status": "ok",
     "timestamp": 1588912978159,
     "user": {
      "displayName": "Ludim Salo",
      "photoUrl": "",
      "userId": "03840773669080222351"
     },
     "user_tz": 300
    },
    "id": "jQmNGYrXl5Qk",
    "outputId": "9743fc7d-99cd-4e07-df8f-2e081697dd07"
   },
   "outputs": [
    {
     "data": {
      "text/plain": [
       "array([19032, 33792])"
      ]
     },
     "execution_count": 36,
     "metadata": {
      "tags": []
     },
     "output_type": "execute_result"
    }
   ],
   "source": [
    "matriz.dot(arreglo)"
   ]
  },
  {
   "cell_type": "code",
   "execution_count": 0,
   "metadata": {
    "colab": {
     "base_uri": "https://localhost:8080/",
     "height": 172
    },
    "colab_type": "code",
    "executionInfo": {
     "elapsed": 329,
     "status": "error",
     "timestamp": 1588912971337,
     "user": {
      "displayName": "Ludim Salo",
      "photoUrl": "",
      "userId": "03840773669080222351"
     },
     "user_tz": 300
    },
    "id": "J1IdJpLJl8-r",
    "outputId": "41d4722a-41e1-4994-c75b-0529a23b606c"
   },
   "outputs": [
    {
     "ename": "ValueError",
     "evalue": "ignored",
     "output_type": "error",
     "traceback": [
      "\u001b[0;31m---------------------------------------------------------------------------\u001b[0m",
      "\u001b[0;31mValueError\u001b[0m                                Traceback (most recent call last)",
      "\u001b[0;32m<ipython-input-35-8df1ef7e9b82>\u001b[0m in \u001b[0;36m<module>\u001b[0;34m()\u001b[0m\n\u001b[0;32m----> 1\u001b[0;31m \u001b[0marreglo\u001b[0m\u001b[0;34m.\u001b[0m\u001b[0mdot\u001b[0m\u001b[0;34m(\u001b[0m\u001b[0mmatriz\u001b[0m\u001b[0;34m)\u001b[0m\u001b[0;34m\u001b[0m\u001b[0;34m\u001b[0m\u001b[0m\n\u001b[0m",
      "\u001b[0;31mValueError\u001b[0m: shapes (3,) and (2,3) not aligned: 3 (dim 0) != 2 (dim 0)"
     ]
    }
   ],
   "source": [
    "# Por que da error?\n",
    "arreglo.dot(matriz)"
   ]
  },
  {
   "cell_type": "code",
   "execution_count": 0,
   "metadata": {
    "colab": {
     "base_uri": "https://localhost:8080/",
     "height": 172
    },
    "colab_type": "code",
    "executionInfo": {
     "elapsed": 433,
     "status": "error",
     "timestamp": 1588912940617,
     "user": {
      "displayName": "Ludim Salo",
      "photoUrl": "",
      "userId": "03840773669080222351"
     },
     "user_tz": 300
    },
    "id": "ltzcswEIkdrD",
    "outputId": "7377a63d-01d8-4d39-c078-2a1c0495cf19"
   },
   "outputs": [
    {
     "ename": "ValueError",
     "evalue": "ignored",
     "output_type": "error",
     "traceback": [
      "\u001b[0;31m---------------------------------------------------------------------------\u001b[0m",
      "\u001b[0;31mValueError\u001b[0m                                Traceback (most recent call last)",
      "\u001b[0;32m<ipython-input-33-ce73384337f2>\u001b[0m in \u001b[0;36m<module>\u001b[0;34m()\u001b[0m\n\u001b[0;32m----> 1\u001b[0;31m \u001b[0mmatriz\u001b[0m\u001b[0;34m.\u001b[0m\u001b[0mdot\u001b[0m\u001b[0;34m(\u001b[0m\u001b[0mmatriz\u001b[0m\u001b[0;34m)\u001b[0m\u001b[0;34m\u001b[0m\u001b[0;34m\u001b[0m\u001b[0m\n\u001b[0m",
      "\u001b[0;31mValueError\u001b[0m: shapes (2,3) and (2,3) not aligned: 3 (dim 1) != 2 (dim 0)"
     ]
    }
   ],
   "source": [
    "# Por que da error?\n",
    "matriz.dot(matriz)"
   ]
  },
  {
   "cell_type": "code",
   "execution_count": 0,
   "metadata": {
    "colab": {
     "base_uri": "https://localhost:8080/",
     "height": 136
    },
    "colab_type": "code",
    "executionInfo": {
     "elapsed": 310,
     "status": "ok",
     "timestamp": 1556007894531,
     "user": {
      "displayName": "Manuel Ferrer",
      "photoUrl": "",
      "userId": "01378850988778114649"
     },
     "user_tz": 300
    },
    "id": "XkPc6axRSuBQ",
    "outputId": "8faeffd9-2a49-4475-dffb-ebb9f1287573"
   },
   "outputs": [
    {
     "name": "stdout",
     "output_type": "stream",
     "text": [
      "A1=\n",
      "[[1 1]\n",
      " [1 1]]\n",
      "\n",
      "A2=\n",
      "[[2 2]\n",
      " [2 2]]\n"
     ]
    }
   ],
   "source": [
    "A1 = np.array([[1,1],[1,1]])\n",
    "A2 = np.array([[2,2],[2,2]])\n",
    "\n",
    "print('A1=')\n",
    "print(A1)\n",
    "print()\n",
    "print('A2=')\n",
    "print(A2)"
   ]
  },
  {
   "cell_type": "markdown",
   "metadata": {
    "colab_type": "text",
    "id": "dbmtBD44u8Pj"
   },
   "source": [
    "> \"La regla para la multiplicación de matrices está diseñada para facilitar las operaciones lineales básicas.\n",
    "> Cuando multiplicamos matrices, el número de columnas de la primera matriz debe ser igual al número de filas de la segunda matriz; y **el resultado de esta multiplicación va a tener el mismo número de filas que la primer matriz y el número de la columnas de la segunda matriz**. \n",
    "> Algo a tener en cuenta a la hora de multiplicar matrices es que la **propiedad connmutativa no se cumple**. AxB no es lo mismo que BxA.\"\n",
    "\n",
    "[Álgebra Lineal con Python](https://relopezbriega.github.io/blog/2015/06/14/algebra-lineal-con-python/)"
   ]
  },
  {
   "cell_type": "markdown",
   "metadata": {
    "colab_type": "text",
    "id": "ybuL7QN9a9mW"
   },
   "source": [
    "## Operaciones Básicas"
   ]
  },
  {
   "cell_type": "markdown",
   "metadata": {
    "colab_type": "text",
    "id": "Qh_u0FL7mSYJ"
   },
   "source": [
    "### Ejercicios de vectores"
   ]
  },
  {
   "cell_type": "markdown",
   "metadata": {
    "colab_type": "text",
    "id": "pYJalDlKImPM"
   },
   "source": [
    "Instrucciones define los dos siguientes conjuntos de vectores y realiza las siguientes operaciones:\n",
    "\n",
    "$\\vec{v}_1 = \\begin{pmatrix} 1 \\\\ 2 \\\\ 3 \\end{pmatrix}, \\vec{v}_2 = \\begin{pmatrix} 2 \\\\ -1 \\\\ -1 \\end{pmatrix}, \\vec{v}_3 = \\begin{pmatrix} 1 \\\\ -2 \\\\ -1 \\end{pmatrix}$\n",
    "\n",
    "\n",
    "$\\vec{w}_1 = \\begin{pmatrix} 3 \\\\ 5 \\\\ 1 \\end{pmatrix} , \\vec{w}_2 = \\begin{pmatrix} 0 \\\\ 2 \\\\ -1 \\end{pmatrix} ,\\vec{w}_3 = \\begin{pmatrix} 1 \\\\ 0 \\\\ 4 \\end{pmatrix} $\n",
    "\n",
    "1. Suma\n",
    "2. Resta\n",
    "3. Multiplicación por un escalar\n",
    "4. Producto punto "
   ]
  },
  {
   "cell_type": "code",
   "execution_count": 0,
   "metadata": {
    "colab": {},
    "colab_type": "code",
    "id": "jt5n75--ImPP"
   },
   "outputs": [],
   "source": [
    "v1=np.array([[1],[2],[3]])\n",
    "v2=np.array([[2],[-1],[-1]])\n",
    "v3=np.array([[1],[-2],[-1]])\n",
    "w1=np.array([[3],[5],[1]])\n",
    "w2=np.array([[0],[2],[-1]])\n",
    "w3=np.array([[1],[0],[4]])"
   ]
  },
  {
   "cell_type": "code",
   "execution_count": 0,
   "metadata": {
    "colab": {
     "base_uri": "https://localhost:8080/",
     "height": 90
    },
    "colab_type": "code",
    "executionInfo": {
     "elapsed": 404,
     "status": "ok",
     "timestamp": 1589004927345,
     "user": {
      "displayName": "Ludim Salo",
      "photoUrl": "",
      "userId": "03840773669080222351"
     },
     "user_tz": 300
    },
    "id": "Kah-0FoxnCM2",
    "outputId": "e5d4ae73-0376-4ce9-a0da-b8745eff9a8d"
   },
   "outputs": [
    {
     "name": "stdout",
     "output_type": "stream",
     "text": [
      "6\n",
      "Suma horizontalmente [6]\n",
      "\n",
      "Suma verticalmente [1 2 3]\n"
     ]
    }
   ],
   "source": [
    "print(np.sum(v1))\n",
    "\n",
    "print('Suma horizontalmente',np.sum(v1,axis=0))\n",
    "print()\n",
    "print('Suma verticalmente',np.sum(v1,axis=1))"
   ]
  },
  {
   "cell_type": "markdown",
   "metadata": {
    "colab_type": "text",
    "id": "5m0aZyArbCkR"
   },
   "source": [
    "### Ejercicios de matrices\n"
   ]
  },
  {
   "cell_type": "markdown",
   "metadata": {
    "colab_type": "text",
    "id": "TApVVrwfrt3Q"
   },
   "source": [
    "Instrucciones define los dos siguientes conjuntos de vectores y realiza las siguientes operaciones:\n",
    "\n",
    "\\begin{equation*}\n",
    "A = \n",
    "\\begin{pmatrix}\n",
    "0 & 7 & 3 & 5 \\\\\n",
    "1 & 0 & 2 & 4 \\\\\n",
    "6 & 2 & 5 & 0\n",
    "\\end{pmatrix}\n",
    "\\end{equation*}\n",
    "\n",
    "\\begin{equation*}\n",
    "B = \n",
    "\\begin{bmatrix}\n",
    "7 & 2 & 9 & 3 \\\\\n",
    "2 & 4 & 1 & 1 \\\\\n",
    "5 & 4 & 3 & 3 \\\\\n",
    "\\end{bmatrix}\n",
    "\\end{equation*}\n",
    "\n",
    "1. Suma\n",
    "2. Resta\n",
    "3. Multiplicación por un escalar\n",
    "4. Producto de matrices\n",
    "5. Transponer la matriz A"
   ]
  },
  {
   "cell_type": "code",
   "execution_count": 0,
   "metadata": {
    "colab": {
     "base_uri": "https://localhost:8080/",
     "height": 146
    },
    "colab_type": "code",
    "executionInfo": {
     "elapsed": 364,
     "status": "ok",
     "timestamp": 1589070312319,
     "user": {
      "displayName": "Ludim Salo",
      "photoUrl": "",
      "userId": "03840773669080222351"
     },
     "user_tz": 300
    },
    "id": "zOqJZjHjrtcd",
    "outputId": "87aa3d13-662f-4c04-ae41-f2ea95b0c2b1"
   },
   "outputs": [
    {
     "name": "stdout",
     "output_type": "stream",
     "text": [
      "[[0 7 3 5]\n",
      " [1 0 2 4]\n",
      " [6 2 5 0]] \n",
      "\n",
      " [[7 2 9 3]\n",
      " [2 4 1 1]\n",
      " [5 4 3 3]]\n"
     ]
    }
   ],
   "source": [
    "A = np.array([\n",
    "    [0,7,3,5],\n",
    "    [1,0,2,4],\n",
    "    [6,2,5,0]\n",
    "])\n",
    "B = np.array([\n",
    "    [7,2,9,3],\n",
    "    [2,4,1,1],\n",
    "    [5,4,3,3]\n",
    "])\n",
    "print(A,\"\\n\\n\", B)"
   ]
  },
  {
   "cell_type": "code",
   "execution_count": 0,
   "metadata": {
    "colab": {
     "base_uri": "https://localhost:8080/",
     "height": 72
    },
    "colab_type": "code",
    "executionInfo": {
     "elapsed": 357,
     "status": "ok",
     "timestamp": 1589070317353,
     "user": {
      "displayName": "Ludim Salo",
      "photoUrl": "",
      "userId": "03840773669080222351"
     },
     "user_tz": 300
    },
    "id": "sWEfS9ZeuZ6v",
    "outputId": "e4fb7137-0443-4113-d8fc-e7de5d0265d6"
   },
   "outputs": [
    {
     "data": {
      "text/plain": [
       "array([[ 0, 14, 27, 15],\n",
       "       [ 2,  0,  2,  4],\n",
       "       [30,  8, 15,  0]])"
      ]
     },
     "execution_count": 28,
     "metadata": {
      "tags": []
     },
     "output_type": "execute_result"
    }
   ],
   "source": [
    "A*B"
   ]
  },
  {
   "cell_type": "code",
   "execution_count": 0,
   "metadata": {
    "colab": {
     "base_uri": "https://localhost:8080/",
     "height": 72
    },
    "colab_type": "code",
    "executionInfo": {
     "elapsed": 388,
     "status": "ok",
     "timestamp": 1588915193979,
     "user": {
      "displayName": "Ludim Salo",
      "photoUrl": "",
      "userId": "03840773669080222351"
     },
     "user_tz": 300
    },
    "id": "HkmwIC5xublK",
    "outputId": "0061fd2c-88d7-4721-8aaa-6df58199e987"
   },
   "outputs": [
    {
     "data": {
      "text/plain": [
       "array([[ 0, 14, 27, 15],\n",
       "       [ 2,  0,  2,  4],\n",
       "       [30,  8, 15,  0]])"
      ]
     },
     "execution_count": 51,
     "metadata": {
      "tags": []
     },
     "output_type": "execute_result"
    }
   ],
   "source": [
    "B*A"
   ]
  },
  {
   "cell_type": "markdown",
   "metadata": {
    "colab_type": "text",
    "id": "cTrhV6LkndXF"
   },
   "source": [
    "## Mini Test 1"
   ]
  },
  {
   "cell_type": "markdown",
   "metadata": {
    "colab_type": "text",
    "id": "HjC4E3TYXw4G"
   },
   "source": [
    "#### ¿Cómo convertir un vector *float* de 32 bits en uno de *int* de 32 bits?"
   ]
  },
  {
   "cell_type": "code",
   "execution_count": 0,
   "metadata": {
    "colab": {},
    "colab_type": "code",
    "id": "33p4ZVb-Xw4H",
    "outputId": "44d639fc-5206-4120-f0ad-68b51daeab83"
   },
   "outputs": [
    {
     "name": "stdout",
     "output_type": "stream",
     "text": [
      "[  9.271619   -2.6839414 -17.378786   10.45445    25.230648    9.526986\n",
      "   7.3378334  -2.8073478 -19.425247    4.607221 ]\n",
      "float32\n",
      "[  9  -2 -17  10  25   9   7  -2 -19   4]\n",
      "int32\n"
     ]
    }
   ],
   "source": []
  },
  {
   "cell_type": "markdown",
   "metadata": {
    "colab_type": "text",
    "id": "QqeP8_F6vzzt"
   },
   "source": [
    "#### ¿Es posible realizar el producto de la matriz A (2,3) * B(3,2) * C(4,2)\n",
    "Sustentelo de forma matemática, puede verificar generando la matriz con datos aleatorios. Los datos entre paréntesis indican (FILA, COLUMNA)"
   ]
  },
  {
   "cell_type": "code",
   "execution_count": 0,
   "metadata": {
    "colab": {},
    "colab_type": "code",
    "id": "YAZ4ZDUVwJbK"
   },
   "outputs": [],
   "source": []
  },
  {
   "cell_type": "markdown",
   "metadata": {
    "colab_type": "text",
    "id": "EmcUFlY8qGjR"
   },
   "source": [
    "## Matrices especiales"
   ]
  },
  {
   "cell_type": "markdown",
   "metadata": {
    "colab_type": "text",
    "id": "dqbj_MgwFC3p"
   },
   "source": [
    "#### Matriz Identidad\n",
    "En la multiplicación en álgebra el 1 es el elemento neutro del producto. En álgebra lineal (matrices) la matriz identidad es el elemento neutro en la multiplicaicón de matrices, es decir:\n",
    "```\n",
    "A = matriz\n",
    "I = matriz identidad \n",
    "```\n",
    "$$ A * I = A $$\n",
    "Donde la matriz identidad debe tener el mismo número de filas y columnas (cuadrada). Compuesta con 0 en toda la matriz, con excepción de diagonal principal que tendrá 1."
   ]
  },
  {
   "cell_type": "code",
   "execution_count": 0,
   "metadata": {
    "colab": {
     "base_uri": "https://localhost:8080/",
     "height": 164
    },
    "colab_type": "code",
    "executionInfo": {
     "elapsed": 408,
     "status": "ok",
     "timestamp": 1589072371997,
     "user": {
      "displayName": "Ludim Salo",
      "photoUrl": "",
      "userId": "03840773669080222351"
     },
     "user_tz": 300
    },
    "id": "Ne--qAgoFCJv",
    "outputId": "daf2e225-5aeb-455a-9b0c-8d7a670db5ef"
   },
   "outputs": [
    {
     "name": "stdout",
     "output_type": "stream",
     "text": [
      "[[1 4 3 2]\n",
      " [3 1 2 7]\n",
      " [8 6 1 2]\n",
      " [6 7 3 1]]\n"
     ]
    },
    {
     "data": {
      "text/plain": [
       "array([[1, 0, 0, 0],\n",
       "       [0, 1, 0, 0],\n",
       "       [0, 0, 1, 0],\n",
       "       [0, 0, 0, 1]], dtype=int16)"
      ]
     },
     "execution_count": 40,
     "metadata": {
      "tags": []
     },
     "output_type": "execute_result"
    }
   ],
   "source": [
    "matriz_cuadrada = np.random.randint(1, 10, 16).reshape(4,4)\n",
    "rows = matriz_cuadrada.shape[0]\n",
    "print(matriz_cuadrada)\n",
    "I = np.eye(rows,dtype=np.int16)\n",
    "I"
   ]
  },
  {
   "cell_type": "code",
   "execution_count": 0,
   "metadata": {
    "colab": {
     "base_uri": "https://localhost:8080/",
     "height": 90
    },
    "colab_type": "code",
    "executionInfo": {
     "elapsed": 491,
     "status": "ok",
     "timestamp": 1589072374082,
     "user": {
      "displayName": "Ludim Salo",
      "photoUrl": "",
      "userId": "03840773669080222351"
     },
     "user_tz": 300
    },
    "id": "5bG4lQrCYyTP",
    "outputId": "ac19c511-4345-4887-b778-c4a486695c27"
   },
   "outputs": [
    {
     "data": {
      "text/plain": [
       "array([[1, 4, 3, 2],\n",
       "       [3, 1, 2, 7],\n",
       "       [8, 6, 1, 2],\n",
       "       [6, 7, 3, 1]])"
      ]
     },
     "execution_count": 41,
     "metadata": {
      "tags": []
     },
     "output_type": "execute_result"
    }
   ],
   "source": [
    "np.dot(matriz_cuadrada,I)"
   ]
  },
  {
   "cell_type": "code",
   "execution_count": 0,
   "metadata": {
    "colab": {
     "base_uri": "https://localhost:8080/",
     "height": 90
    },
    "colab_type": "code",
    "executionInfo": {
     "elapsed": 335,
     "status": "ok",
     "timestamp": 1589072375744,
     "user": {
      "displayName": "Ludim Salo",
      "photoUrl": "",
      "userId": "03840773669080222351"
     },
     "user_tz": 300
    },
    "id": "IWyDRuiybj-Z",
    "outputId": "cca7ad71-e0dc-4d6d-9619-546dde368b66"
   },
   "outputs": [
    {
     "data": {
      "text/plain": [
       "array([[1, 4, 3, 2],\n",
       "       [3, 1, 2, 7],\n",
       "       [8, 6, 1, 2],\n",
       "       [6, 7, 3, 1]])"
      ]
     },
     "execution_count": 42,
     "metadata": {
      "tags": []
     },
     "output_type": "execute_result"
    }
   ],
   "source": [
    "matriz_cuadrada @ I"
   ]
  },
  {
   "cell_type": "code",
   "execution_count": 0,
   "metadata": {
    "colab": {
     "base_uri": "https://localhost:8080/",
     "height": 90
    },
    "colab_type": "code",
    "executionInfo": {
     "elapsed": 431,
     "status": "ok",
     "timestamp": 1589072377065,
     "user": {
      "displayName": "Ludim Salo",
      "photoUrl": "",
      "userId": "03840773669080222351"
     },
     "user_tz": 300
    },
    "id": "w2d13QMVNdZ6",
    "outputId": "374afbed-cb2b-47f1-a513-f5ce5c1aae0d"
   },
   "outputs": [
    {
     "data": {
      "text/plain": [
       "array([[1, 0, 0, 0],\n",
       "       [0, 1, 0, 0],\n",
       "       [0, 0, 1, 0],\n",
       "       [0, 0, 0, 1]])"
      ]
     },
     "execution_count": 43,
     "metadata": {
      "tags": []
     },
     "output_type": "execute_result"
    }
   ],
   "source": [
    "matriz_cuadrada * I"
   ]
  },
  {
   "cell_type": "markdown",
   "metadata": {
    "colab_type": "text",
    "id": "ihrYHMWFO06E"
   },
   "source": [
    "Diferencia https://stackoverflow.com/questions/3890621/how-does-multiplication-differ-for-numpy-matrix-vs-array-classes"
   ]
  },
  {
   "cell_type": "markdown",
   "metadata": {
    "colab_type": "text",
    "id": "fjZJwpzjFDta"
   },
   "source": [
    "#### Matriz inversa\n",
    "¿Recuerdas el concepto del recíproco o inverso de un número x (no nulo)? Se  denota como:\n",
    "\n",
    "$$f(x)^{-1} = \\frac{1}{x}$$\n",
    "\n",
    "Este número si lo multiplicamos por x da 1 como resultado.\n",
    "$$ \\frac{1}{x} * x = 1$$\n",
    "\n",
    "Algo similar sucede con la inversa de una matriz. El cual se cálcula utilizando la matriz identidad. Al tener una matriz A, la matriz inversa de A, que se representa como \n",
    "$$A^{-1}$$ \n",
    "y\n",
    "$$ A * A^{-1}  = I $$ \n",
    "Por lo que esta matriz es la recíproca de A.\n",
    "\n",
    "**Nota 1**: la matriz debe ser cuadrada.\n",
    "\n",
    "**Nota 2**: Tener en cuenta que esta matriz inversa en muchos casos **puede no existir**.En este caso se dice que la matriz es singular o degenerada. Una matriz es singular si y solo si su determinante es nulo."
   ]
  },
  {
   "cell_type": "code",
   "execution_count": 0,
   "metadata": {
    "colab": {
     "base_uri": "https://localhost:8080/",
     "height": 90
    },
    "colab_type": "code",
    "executionInfo": {
     "elapsed": 571,
     "status": "ok",
     "timestamp": 1589072395447,
     "user": {
      "displayName": "Ludim Salo",
      "photoUrl": "",
      "userId": "03840773669080222351"
     },
     "user_tz": 300
    },
    "id": "8Bg58wuvFDti",
    "outputId": "153d739e-f0bb-4709-c032-f5230a4b5275"
   },
   "outputs": [
    {
     "data": {
      "text/plain": [
       "array([[-0.6,  0.2, -0.3,  0.6],\n",
       "       [ 0.9, -0.3,  0.7, -0.9],\n",
       "       [-0.9,  0.3, -1. ,  1.3],\n",
       "       [ 0.4,  0. ,  0.3, -0.5]])"
      ]
     },
     "execution_count": 47,
     "metadata": {
      "tags": []
     },
     "output_type": "execute_result"
    }
   ],
   "source": [
    "matriz_cuadrada_inversa = np.linalg.inv(matriz_cuadrada)\n",
    "matriz_cuadrada_inversa"
   ]
  },
  {
   "cell_type": "code",
   "execution_count": 0,
   "metadata": {
    "colab": {
     "base_uri": "https://localhost:8080/",
     "height": 90
    },
    "colab_type": "code",
    "executionInfo": {
     "elapsed": 387,
     "status": "ok",
     "timestamp": 1589072391504,
     "user": {
      "displayName": "Ludim Salo",
      "photoUrl": "",
      "userId": "03840773669080222351"
     },
     "user_tz": 300
    },
    "id": "6cUnuROnF3tY",
    "outputId": "9d5a1093-fa33-49d8-d0d9-6fc5cb4a5ab3"
   },
   "outputs": [
    {
     "data": {
      "text/plain": [
       "array([[1, 4, 3, 2],\n",
       "       [3, 1, 2, 7],\n",
       "       [8, 6, 1, 2],\n",
       "       [6, 7, 3, 1]])"
      ]
     },
     "execution_count": 46,
     "metadata": {
      "tags": []
     },
     "output_type": "execute_result"
    }
   ],
   "source": [
    "matriz_cuadrada"
   ]
  },
  {
   "cell_type": "code",
   "execution_count": 0,
   "metadata": {
    "colab": {
     "base_uri": "https://localhost:8080/",
     "height": 90
    },
    "colab_type": "code",
    "executionInfo": {
     "elapsed": 434,
     "status": "ok",
     "timestamp": 1589072701490,
     "user": {
      "displayName": "Ludim Salo",
      "photoUrl": "",
      "userId": "03840773669080222351"
     },
     "user_tz": 300
    },
    "id": "WIrd6b51a78F",
    "outputId": "2575b6b0-bbb1-4f8e-8179-6ff3b92c619a"
   },
   "outputs": [
    {
     "data": {
      "text/plain": [
       "array([[ 1., -0., -0., -0.],\n",
       "       [-0.,  1.,  0.,  0.],\n",
       "       [ 0.,  0.,  1., -0.],\n",
       "       [ 0.,  0.,  0.,  1.]])"
      ]
     },
     "execution_count": 56,
     "metadata": {
      "tags": []
     },
     "output_type": "execute_result"
    }
   ],
   "source": [
    "matriz_identidad = matriz_cuadrada_inversa.dot(matriz_cuadrada)\n",
    "matriz_identidad.round(decimals=1)"
   ]
  },
  {
   "cell_type": "markdown",
   "metadata": {
    "colab_type": "text",
    "id": "VhIkXKFbFQQh"
   },
   "source": [
    "#### Determinante de una matriz\n",
    "Número que se calcula como la suma de los productos de las diagonales de la matriz en una dirección menos la suma de los productos de las diagonales en la otra dirección.\n",
    "$$|A|$$"
   ]
  },
  {
   "cell_type": "code",
   "execution_count": 0,
   "metadata": {
    "colab": {
     "base_uri": "https://localhost:8080/",
     "height": 35
    },
    "colab_type": "code",
    "executionInfo": {
     "elapsed": 509,
     "status": "ok",
     "timestamp": 1589061021246,
     "user": {
      "displayName": "Ludim Salo",
      "photoUrl": "",
      "userId": "03840773669080222351"
     },
     "user_tz": 300
    },
    "id": "tyrjhYcdFQcK",
    "outputId": "2e01a016-85aa-4c00-fe42-6ee16a726e34"
   },
   "outputs": [
    {
     "data": {
      "text/plain": [
       "15475806.00000002"
      ]
     },
     "execution_count": 15,
     "metadata": {
      "tags": []
     },
     "output_type": "execute_result"
    }
   ],
   "source": [
    "np.linalg.det(matriz_cuadrada)"
   ]
  },
  {
   "cell_type": "markdown",
   "metadata": {
    "colab_type": "text",
    "id": "0vtz7D9nFFJt"
   },
   "source": [
    "#### Matriz transpuesta\n",
    "Aquella en que las filas se transforman en columnas y las columnas en filas. Se representa con el símbolo A⊺\n",
    "$$A^T$$"
   ]
  },
  {
   "cell_type": "code",
   "execution_count": 0,
   "metadata": {
    "colab": {
     "base_uri": "https://localhost:8080/",
     "height": 90
    },
    "colab_type": "code",
    "executionInfo": {
     "elapsed": 398,
     "status": "ok",
     "timestamp": 1589061166724,
     "user": {
      "displayName": "Ludim Salo",
      "photoUrl": "",
      "userId": "03840773669080222351"
     },
     "user_tz": 300
    },
    "id": "HxzjE4GlFFJy",
    "outputId": "39d7cb9d-0c83-4d52-b2ce-6c349e50a673"
   },
   "outputs": [
    {
     "data": {
      "text/plain": [
       "array([[10, 92, 93, 29],\n",
       "       [25, 56, 93, 89],\n",
       "       [73, 94, 60, 12],\n",
       "       [43, 66, 15, 16]])"
      ]
     },
     "execution_count": 21,
     "metadata": {
      "tags": []
     },
     "output_type": "execute_result"
    }
   ],
   "source": [
    "np.transpose(matriz_cuadrada)"
   ]
  },
  {
   "cell_type": "markdown",
   "metadata": {
    "colab_type": "text",
    "id": "D-6LxOBIX741"
   },
   "source": [
    "## Explorando más Funciones Básica en NumPy"
   ]
  },
  {
   "cell_type": "markdown",
   "metadata": {
    "colab_type": "text",
    "id": "SUy-Z6YdFdPj"
   },
   "source": [
    "### Estádisticos\n",
    "\n",
    "Numpy posee las funciones estadísiticas básicas: \n",
    "* Media\n",
    "* Mediana\n",
    "* Rangos\n",
    "* Varianzas y covarianzas\n",
    "* Correlaciones \n",
    "* Cuentas\n",
    "\n",
    "Para mayor información: https://docs.scipy.org/doc/numpy-1.14.5/reference/routines.statistics.html\n"
   ]
  },
  {
   "cell_type": "code",
   "execution_count": 0,
   "metadata": {
    "colab": {
     "base_uri": "https://localhost:8080/",
     "height": 146
    },
    "colab_type": "code",
    "executionInfo": {
     "elapsed": 492,
     "status": "ok",
     "timestamp": 1589073135639,
     "user": {
      "displayName": "Ludim Salo",
      "photoUrl": "",
      "userId": "03840773669080222351"
     },
     "user_tz": 300
    },
    "id": "99E4KNAAFdPt",
    "outputId": "654745c7-63d0-4a9e-9e65-c00826ef76ef"
   },
   "outputs": [
    {
     "name": "stdout",
     "output_type": "stream",
     "text": [
      "4.666666666666667\n",
      "\n",
      "[5.333333333 4.         ]\n",
      "\n",
      "4.0\n",
      "\n",
      "2.6246692913372702\n"
     ]
    }
   ],
   "source": [
    "# Media del arreglo\n",
    "matriz = np.random.randint(10, size=6).reshape(2,3)\n",
    "a1=np.mean(matriz)\n",
    "print(a1)\n",
    "print()\n",
    "\n",
    "# Media de cada una de las filas \n",
    "a2=np.mean(matriz,axis=1)\n",
    "print(a2)\n",
    "print()\n",
    "\n",
    "# Mediana del arreglo\n",
    "a3=np.median(matriz)\n",
    "print(a3)\n",
    "print()\n",
    "\n",
    "# Desviación estándar del arreglo \n",
    "a4=np.std(matriz)\n",
    "print(a4)"
   ]
  },
  {
   "cell_type": "code",
   "execution_count": 0,
   "metadata": {
    "colab": {
     "base_uri": "https://localhost:8080/",
     "height": 72
    },
    "colab_type": "code",
    "executionInfo": {
     "elapsed": 420,
     "status": "ok",
     "timestamp": 1589073142400,
     "user": {
      "displayName": "Ludim Salo",
      "photoUrl": "",
      "userId": "03840773669080222351"
     },
     "user_tz": 300
    },
    "id": "9Kt4iRZoFdQH",
    "outputId": "c97d5d6d-a554-4ca1-d16a-c8a219224fa1"
   },
   "outputs": [
    {
     "name": "stdout",
     "output_type": "stream",
     "text": [
      "Maximo= 9\n",
      "Mínimo= 2\n",
      "Rango= 7\n"
     ]
    }
   ],
   "source": [
    "# Máximo valor en el arreglo\n",
    "print('Maximo=',np.amax(matriz))\n",
    "\n",
    "\n",
    "# Minimo valor en el arreglo \n",
    "print('Mínimo=',np.amin(matriz))\n",
    "\n",
    "# Rango del Arreglo -> R= max(A)-min(A)\n",
    "print('Rango=',np.ptp(matriz))\n"
   ]
  },
  {
   "cell_type": "markdown",
   "metadata": {
    "colab_type": "text",
    "id": "8l7pdeetBFbU"
   },
   "source": [
    "### Orden \n"
   ]
  },
  {
   "cell_type": "code",
   "execution_count": 0,
   "metadata": {
    "colab": {
     "base_uri": "https://localhost:8080/",
     "height": 54
    },
    "colab_type": "code",
    "executionInfo": {
     "elapsed": 455,
     "status": "ok",
     "timestamp": 1589073145281,
     "user": {
      "displayName": "Ludim Salo",
      "photoUrl": "",
      "userId": "03840773669080222351"
     },
     "user_tz": 300
    },
    "id": "DSeLzAPKOY0R",
    "outputId": "3b7a0950-b407-442e-abcb-e30777045a1c"
   },
   "outputs": [
    {
     "name": "stdout",
     "output_type": "stream",
     "text": [
      "[-0.895547703  1.05697263   0.288890459 -1.734783933 -0.24730777\n",
      "  2.091793597  1.174744153  0.291956027  0.638910228  1.916188501]\n"
     ]
    }
   ],
   "source": [
    "# create a 10 element array of randoms\n",
    "desord = np.random.randn(10)\n",
    "\n",
    "print(desord)"
   ]
  },
  {
   "cell_type": "code",
   "execution_count": 0,
   "metadata": {
    "colab": {
     "base_uri": "https://localhost:8080/",
     "height": 35
    },
    "colab_type": "code",
    "executionInfo": {
     "elapsed": 383,
     "status": "ok",
     "timestamp": 1589073146956,
     "user": {
      "displayName": "Ludim Salo",
      "photoUrl": "",
      "userId": "03840773669080222351"
     },
     "user_tz": 300
    },
    "id": "t8fourS-X3BI",
    "outputId": "48cc5bd3-6548-4771-ece3-b1f0dc4df95c"
   },
   "outputs": [
    {
     "name": "stdout",
     "output_type": "stream",
     "text": [
      "[1 2 4]\n"
     ]
    }
   ],
   "source": [
    "# Encontrando valores únicas\n",
    "\n",
    "arreglo = np.array([1,2,1,4,2,1,4,2])\n",
    "\n",
    "print(np.unique(arreglo))"
   ]
  },
  {
   "cell_type": "code",
   "execution_count": 0,
   "metadata": {
    "colab": {
     "base_uri": "https://localhost:8080/",
     "height": 146
    },
    "colab_type": "code",
    "executionInfo": {
     "elapsed": 432,
     "status": "ok",
     "timestamp": 1589073148505,
     "user": {
      "displayName": "Ludim Salo",
      "photoUrl": "",
      "userId": "03840773669080222351"
     },
     "user_tz": 300
    },
    "id": "n47KCFgnOcWp",
    "outputId": "558d4201-dc6b-40a6-e428-ce3ce8e3d06b"
   },
   "outputs": [
    {
     "name": "stdout",
     "output_type": "stream",
     "text": [
      "Desordenados\n",
      "[-0.895547703  1.05697263   0.288890459 -1.734783933 -0.24730777\n",
      "  2.091793597  1.174744153  0.291956027  0.638910228  1.916188501]\n",
      "\n",
      "Ordenados\n",
      "[-1.734783933 -0.895547703 -0.24730777   0.288890459  0.291956027\n",
      "  0.638910228  1.05697263   1.174744153  1.916188501  2.091793597]\n"
     ]
    }
   ],
   "source": [
    "# Crear una copia y ordenarla \n",
    "ord = np.array(desord)\n",
    "ord.sort()\n",
    "\n",
    "print('Desordenados')\n",
    "print(desord)\n",
    "print()\n",
    "print('Ordenados')\n",
    "print(ord)"
   ]
  },
  {
   "cell_type": "code",
   "execution_count": 0,
   "metadata": {
    "colab": {
     "base_uri": "https://localhost:8080/",
     "height": 72
    },
    "colab_type": "code",
    "executionInfo": {
     "elapsed": 370,
     "status": "ok",
     "timestamp": 1589073150639,
     "user": {
      "displayName": "Ludim Salo",
      "photoUrl": "",
      "userId": "03840773669080222351"
     },
     "user_tz": 300
    },
    "id": "0lNjW3QvRWL8",
    "outputId": "5959246d-2f71-4dec-a86d-0ac14ca3e4b9"
   },
   "outputs": [
    {
     "name": "stdout",
     "output_type": "stream",
     "text": [
      "Indices:  [3 0 4 2 7 8 1 6 9 5]\n",
      "[-1.734783933 -0.895547703 -0.24730777   0.288890459  0.291956027\n",
      "  0.638910228  1.05697263   1.174744153  1.916188501  2.091793597]\n"
     ]
    }
   ],
   "source": [
    "# Obtener los indices que ordenerian el arreglo\n",
    "ind=desord.argsort()\n",
    "print('Indices: ',ind)\n",
    "\n",
    "# Colocamos los indices para que se ordenen \n",
    "print(desord[ind])\n",
    "\n"
   ]
  },
  {
   "cell_type": "markdown",
   "metadata": {
    "colab_type": "text",
    "id": "HpUSmtqeBNtE"
   },
   "source": [
    "### Forma \n",
    "reshape\n",
    "transpose \n",
    "vstack \n",
    "hstack \n",
    "contatenados \n",
    "ravle \n",
    "\n"
   ]
  },
  {
   "cell_type": "code",
   "execution_count": 0,
   "metadata": {
    "colab": {
     "base_uri": "https://localhost:8080/",
     "height": 164
    },
    "colab_type": "code",
    "executionInfo": {
     "elapsed": 516,
     "status": "ok",
     "timestamp": 1589073152604,
     "user": {
      "displayName": "Ludim Salo",
      "photoUrl": "",
      "userId": "03840773669080222351"
     },
     "user_tz": 300
    },
    "id": "garSLcQ-bVyk",
    "outputId": "ba53fda4-06d0-4561-ae85-e30984f6cc3e"
   },
   "outputs": [
    {
     "name": "stdout",
     "output_type": "stream",
     "text": [
      "Original\n",
      "[ 0  1  2  3  4  5  6  7  8  9 10 11 12 13 14 15 16 17 18 19]\n",
      "\n",
      "Reacomodo\n",
      "[[ 0  1  2  3  4]\n",
      " [ 5  6  7  8  9]\n",
      " [10 11 12 13 14]\n",
      " [15 16 17 18 19]]\n"
     ]
    }
   ],
   "source": [
    "# Creamos un arreglo unidimensional de 0 al 19\n",
    "arr = np.arange(20)\n",
    "print('Original')\n",
    "print(arr)\n",
    "print()\n",
    "\n",
    "# Le cambiamos la forma para que sea un arreglo de 4 x 5 \n",
    "print('Reacomodo')\n",
    "ARR=arr.reshape(4,5)\n",
    "print(ARR)"
   ]
  },
  {
   "cell_type": "code",
   "execution_count": 0,
   "metadata": {
    "colab": {
     "base_uri": "https://localhost:8080/",
     "height": 109
    },
    "colab_type": "code",
    "executionInfo": {
     "elapsed": 359,
     "status": "ok",
     "timestamp": 1589073154658,
     "user": {
      "displayName": "Ludim Salo",
      "photoUrl": "",
      "userId": "03840773669080222351"
     },
     "user_tz": 300
    },
    "id": "4gA0Fi-Zbkq1",
    "outputId": "7acfe29d-2423-48be-fa18-16d3e0a5e9bd"
   },
   "outputs": [
    {
     "name": "stdout",
     "output_type": "stream",
     "text": [
      "[[ 0  5 10 15]\n",
      " [ 1  6 11 16]\n",
      " [ 2  7 12 17]\n",
      " [ 3  8 13 18]\n",
      " [ 4  9 14 19]]\n"
     ]
    }
   ],
   "source": [
    "# Transposición: cambio de columnas por filas y viceversa\n",
    "print(ARR.T)"
   ]
  },
  {
   "cell_type": "code",
   "execution_count": 0,
   "metadata": {
    "colab": {
     "base_uri": "https://localhost:8080/",
     "height": 35
    },
    "colab_type": "code",
    "executionInfo": {
     "elapsed": 202,
     "status": "ok",
     "timestamp": 1589073155306,
     "user": {
      "displayName": "Ludim Salo",
      "photoUrl": "",
      "userId": "03840773669080222351"
     },
     "user_tz": 300
    },
    "id": "sTqa0_qwcd5f",
    "outputId": "4ddef621-4cfc-4d6c-fb1a-5a7f5b6834ca"
   },
   "outputs": [
    {
     "name": "stdout",
     "output_type": "stream",
     "text": [
      "[ 0  1  2  3  4  5  6  7  8  9 10 11 12 13 14 15 16 17 18 19]\n"
     ]
    }
   ],
   "source": [
    "# Aplanamos el arreglo de dos dimensiones para que sea de nuevo de uno\n",
    "print(np.ravel(ARR))"
   ]
  },
  {
   "cell_type": "code",
   "execution_count": 0,
   "metadata": {
    "colab": {
     "base_uri": "https://localhost:8080/",
     "height": 146
    },
    "colab_type": "code",
    "executionInfo": {
     "elapsed": 525,
     "status": "ok",
     "timestamp": 1589073156671,
     "user": {
      "displayName": "Ludim Salo",
      "photoUrl": "",
      "userId": "03840773669080222351"
     },
     "user_tz": 300
    },
    "id": "0BBfCKIacFCq",
    "outputId": "6eeea6e8-73ec-4c9c-e2c8-71b98e828e34"
   },
   "outputs": [
    {
     "name": "stdout",
     "output_type": "stream",
     "text": [
      "K=\n",
      "[[43 11]\n",
      " [42 34]]\n",
      "\n",
      "M=\n",
      "[[21 27]\n",
      " [12 20]]\n"
     ]
    }
   ],
   "source": [
    "#Creamos dos arreglos de 2 dimensiones que solo contengan enteros aleatoriamente \n",
    "K = np.random.randint(low=2,high=50,size=(2,2))\n",
    "print('K=')\n",
    "print(K)\n",
    "print()\n",
    "print('M=')\n",
    "M = np.random.randint(low=2,high=50,size=(2,2))\n",
    "print(M)"
   ]
  },
  {
   "cell_type": "code",
   "execution_count": 0,
   "metadata": {
    "colab": {
     "base_uri": "https://localhost:8080/",
     "height": 201
    },
    "colab_type": "code",
    "executionInfo": {
     "elapsed": 350,
     "status": "ok",
     "timestamp": 1589073158410,
     "user": {
      "displayName": "Ludim Salo",
      "photoUrl": "",
      "userId": "03840773669080222351"
     },
     "user_tz": 300
    },
    "id": "OmrHWMh9cJrt",
    "outputId": "d53f5023-e261-4d3f-d6e2-ccfe6b39de57"
   },
   "outputs": [
    {
     "name": "stdout",
     "output_type": "stream",
     "text": [
      "Concatenado vertical\n",
      "[[43 11]\n",
      " [42 34]\n",
      " [21 27]\n",
      " [12 20]]\n",
      "\n",
      "[[43 11]\n",
      " [42 34]\n",
      " [21 27]\n",
      " [12 20]]\n"
     ]
    }
   ],
   "source": [
    "# Concatenación vertical\n",
    "\n",
    "#Forma 1\n",
    "VS=np.vstack((K,M))\n",
    "\n",
    "#Forma 2 \n",
    "VS2=np.concatenate([K, M], axis = 0)\n",
    "\n",
    "\n",
    "print('Concatenado vertical')\n",
    "print(VS)\n",
    "print()\n",
    "print(VS2)"
   ]
  },
  {
   "cell_type": "code",
   "execution_count": 0,
   "metadata": {
    "colab": {
     "base_uri": "https://localhost:8080/",
     "height": 127
    },
    "colab_type": "code",
    "executionInfo": {
     "elapsed": 467,
     "status": "ok",
     "timestamp": 1589073162331,
     "user": {
      "displayName": "Ludim Salo",
      "photoUrl": "",
      "userId": "03840773669080222351"
     },
     "user_tz": 300
    },
    "id": "xyKVGCZacLyc",
    "outputId": "6a7586da-3a6b-43b3-a6e7-de3d615ba84f"
   },
   "outputs": [
    {
     "name": "stdout",
     "output_type": "stream",
     "text": [
      "Concatenado horizontal\n",
      "[[43 11 21 27]\n",
      " [42 34 12 20]]\n",
      "\n",
      "[[43 11 21 12]\n",
      " [42 34 27 20]]\n"
     ]
    }
   ],
   "source": [
    "# Concatenación horizontal\n",
    "\n",
    "#Forma 1\n",
    "VH=np.hstack((K,M))\n",
    "\n",
    "#Forma 2 \n",
    "VH2=np.concatenate([K, M.T], axis = 1)\n",
    "\n",
    "print('Concatenado horizontal')\n",
    "print(VH)\n",
    "print()\n",
    "print(VH2)"
   ]
  },
  {
   "cell_type": "markdown",
   "metadata": {
    "colab_type": "text",
    "id": "l0o3uVdABKSS"
   },
   "source": [
    "### Broadcasting \n",
    "\n",
    "Una de las ventajas que nos ofrece numpy es poder operar elementos de arreglos de diferentes tamaños y esto se llama broadcasting. \n",
    "\n",
    "Para mayor información: https://docs.scipy.org/doc/numpy-1.10.1/user/basics.broadcasting.html"
   ]
  },
  {
   "cell_type": "code",
   "execution_count": 0,
   "metadata": {
    "colab": {
     "base_uri": "https://localhost:8080/",
     "height": 90
    },
    "colab_type": "code",
    "executionInfo": {
     "elapsed": 577,
     "status": "ok",
     "timestamp": 1589073166714,
     "user": {
      "displayName": "Ludim Salo",
      "photoUrl": "",
      "userId": "03840773669080222351"
     },
     "user_tz": 300
    },
    "id": "H9d0Di-gY_Eb",
    "outputId": "3b6aeca5-ce4e-4e61-b9f8-6fbf6e90babb"
   },
   "outputs": [
    {
     "name": "stdout",
     "output_type": "stream",
     "text": [
      "[[0. 0. 0.]\n",
      " [0. 0. 0.]\n",
      " [0. 0. 0.]\n",
      " [0. 0. 0.]]\n"
     ]
    }
   ],
   "source": [
    "A = np.zeros((4,3))\n",
    "print(A)"
   ]
  },
  {
   "cell_type": "code",
   "execution_count": 0,
   "metadata": {
    "colab": {
     "base_uri": "https://localhost:8080/",
     "height": 366
    },
    "colab_type": "code",
    "executionInfo": {
     "elapsed": 508,
     "status": "ok",
     "timestamp": 1589073167439,
     "user": {
      "displayName": "Ludim Salo",
      "photoUrl": "",
      "userId": "03840773669080222351"
     },
     "user_tz": 300
    },
    "id": "_JdOdYppZF91",
    "outputId": "4431d194-a315-4330-d78e-abfba80dee28"
   },
   "outputs": [
    {
     "name": "stdout",
     "output_type": "stream",
     "text": [
      "Vector renglon VR [2 4 1]\n",
      "\n",
      "Operacion A+VR \n",
      "[[2. 3. 1.]\n",
      " [2. 3. 1.]\n",
      " [2. 3. 1.]\n",
      " [2. 3. 1.]]\n",
      "\n",
      "Vector columna VC\n",
      "[[2]\n",
      " [3]\n",
      " [1]\n",
      " [0]]\n",
      "\n",
      "Operacion A+VC \n",
      "[[2. 2. 2.]\n",
      " [3. 3. 3.]\n",
      " [1. 1. 1.]\n",
      " [0. 0. 0.]]\n"
     ]
    }
   ],
   "source": [
    "#Suma en cada fila los elementos del vector \n",
    "\n",
    "print('Vector renglon VR',np.array([2,4,1]))\n",
    "print()\n",
    "print('Operacion A+VR ')\n",
    "print(A+np.array([2,3,1]))\n",
    "print()\n",
    "\n",
    "\n",
    "#Ahora suma las columnas\n",
    "print('Vector columna VC')\n",
    "print(np.array([[2],[3],[1],[0]]))\n",
    "print()\n",
    "print('Operacion A+VC ')\n",
    "print(A+np.array([[2],[3],[1],[0]]))\n"
   ]
  },
  {
   "cell_type": "markdown",
   "metadata": {
    "colab_type": "text",
    "id": "9HNG9sYrFd1w"
   },
   "source": [
    "### Funciones universales\n",
    " \n",
    " Son todas aquellas funciones típicas encontradas en las operaciones matemáticas\n",
    " \n",
    "* **Operaciones matemáticas básicas:**  Suma de elementos, producto de elementos, redondeo, divisiones, logaritmos, raices, exponentes, signo, etc.  \n",
    "\n",
    "* **Funciones tringonométricas:** seno, coseno, tangente, funciones hiperbólicas, etc\n",
    "\n",
    "* **Funciones lógicas:** and, or, xor, not, etc. \n",
    "\n",
    "* **Comparaciones: **  mayor que, menor que, igual que, etc. \n",
    "  \n",
    "  \n",
    "  Para mayor información: https://docs.scipy.org/doc/numpy-1.14.0/reference/ufuncs.html#available-ufuncs  "
   ]
  },
  {
   "cell_type": "code",
   "execution_count": 0,
   "metadata": {
    "colab": {
     "base_uri": "https://localhost:8080/",
     "height": 35
    },
    "colab_type": "code",
    "executionInfo": {
     "elapsed": 444,
     "status": "ok",
     "timestamp": 1589073243703,
     "user": {
      "displayName": "Ludim Salo",
      "photoUrl": "",
      "userId": "03840773669080222351"
     },
     "user_tz": 300
    },
    "id": "yH5f_XJ6JORm",
    "outputId": "5882f39d-4369-404e-8853-672ebd0a888b"
   },
   "outputs": [
    {
     "name": "stdout",
     "output_type": "stream",
     "text": [
      "sum(A)  28\n"
     ]
    }
   ],
   "source": [
    "#Funcion suma \n",
    "# sum vs np.sum\n",
    "print('sum(A) ',np.sum(matriz))"
   ]
  },
  {
   "cell_type": "code",
   "execution_count": 0,
   "metadata": {
    "colab": {},
    "colab_type": "code",
    "id": "ajnevTWZK5Ls"
   },
   "outputs": [],
   "source": [
    "large_array = np.random.randint(1, 100, size=1000000)"
   ]
  },
  {
   "cell_type": "code",
   "execution_count": 0,
   "metadata": {
    "colab": {
     "base_uri": "https://localhost:8080/",
     "height": 35
    },
    "colab_type": "code",
    "executionInfo": {
     "elapsed": 7809,
     "status": "ok",
     "timestamp": 1589073670569,
     "user": {
      "displayName": "Ludim Salo",
      "photoUrl": "",
      "userId": "03840773669080222351"
     },
     "user_tz": 300
    },
    "id": "sfUGGPW2JXe0",
    "outputId": "900e39ff-6ff1-4dfa-a6ec-ef8b3b466c8b"
   },
   "outputs": [
    {
     "name": "stdout",
     "output_type": "stream",
     "text": [
      "10 loops, best of 3: 167 ms per loop\n"
     ]
    }
   ],
   "source": [
    "%timeit sum(large_array)"
   ]
  },
  {
   "cell_type": "code",
   "execution_count": 0,
   "metadata": {
    "colab": {
     "base_uri": "https://localhost:8080/",
     "height": 35
    },
    "colab_type": "code",
    "executionInfo": {
     "elapsed": 9767,
     "status": "ok",
     "timestamp": 1589073673244,
     "user": {
      "displayName": "Ludim Salo",
      "photoUrl": "",
      "userId": "03840773669080222351"
     },
     "user_tz": 300
    },
    "id": "iMRWTjZVK8NJ",
    "outputId": "98ba64b4-2adf-4fe0-abd9-0b3f24c9574e"
   },
   "outputs": [
    {
     "name": "stdout",
     "output_type": "stream",
     "text": [
      "1000 loops, best of 3: 705 µs per loop\n"
     ]
    }
   ],
   "source": [
    "%timeit np.sum(large_array)"
   ]
  },
  {
   "cell_type": "code",
   "execution_count": 0,
   "metadata": {
    "colab": {
     "base_uri": "https://localhost:8080/",
     "height": 164
    },
    "colab_type": "code",
    "executionInfo": {
     "elapsed": 499,
     "status": "ok",
     "timestamp": 1589073697416,
     "user": {
      "displayName": "Ludim Salo",
      "photoUrl": "",
      "userId": "03840773669080222351"
     },
     "user_tz": 300
    },
    "id": "mCc4PUjBJQBT",
    "outputId": "b5154ff6-afdb-410f-ebb3-5e34cdbabccc"
   },
   "outputs": [
    {
     "name": "stdout",
     "output_type": "stream",
     "text": [
      "np.add(A,B)= [[10 18  4]\n",
      " [14  6  4]]\n",
      "\n",
      "np.sin(A)= [[0. 0. 0.]\n",
      " [0. 0. 0.]\n",
      " [0. 0. 0.]\n",
      " [0. 0. 0.]]\n",
      "\n"
     ]
    }
   ],
   "source": [
    "#Función add\n",
    "print('np.add(A,B)=', np.add(matriz,matriz))\n",
    "print()\n",
    "\n",
    "#Función seno\n",
    "print('np.sin(A)=', np.sin(A))\n",
    "print()"
   ]
  },
  {
   "cell_type": "markdown",
   "metadata": {
    "colab_type": "text",
    "id": "yLD7v5FLBPMC"
   },
   "source": [
    "### Generadores de números aleatorios\n",
    "\n",
    "\n"
   ]
  },
  {
   "cell_type": "code",
   "execution_count": 0,
   "metadata": {
    "colab": {
     "base_uri": "https://localhost:8080/",
     "height": 34
    },
    "colab_type": "code",
    "executionInfo": {
     "elapsed": 665,
     "status": "ok",
     "timestamp": 1556011024328,
     "user": {
      "displayName": "Manuel Ferrer",
      "photoUrl": "",
      "userId": "01378850988778114649"
     },
     "user_tz": 300
    },
    "id": "hsymFimne2tY",
    "outputId": "db57b581-c8aa-4f72-ce3a-fe28a1ce28b6"
   },
   "outputs": [
    {
     "name": "stdout",
     "output_type": "stream",
     "text": [
      "[0.8677121  0.20096911 0.59803366 0.10539127]\n"
     ]
    }
   ],
   "source": [
    "#Arreglos de números aleatorios uniformemente distribuidos\n",
    "W=np.random.uniform(size=4)\n",
    "print(W)"
   ]
  },
  {
   "cell_type": "code",
   "execution_count": 0,
   "metadata": {
    "colab": {
     "base_uri": "https://localhost:8080/",
     "height": 68
    },
    "colab_type": "code",
    "executionInfo": {
     "elapsed": 270,
     "status": "ok",
     "timestamp": 1556010955076,
     "user": {
      "displayName": "Manuel Ferrer",
      "photoUrl": "",
      "userId": "01378850988778114649"
     },
     "user_tz": 300
    },
    "id": "KV3wM6ANeWJg",
    "outputId": "5ba0cfa5-26c7-4af5-dc14-aa79b6ed4acb"
   },
   "outputs": [
    {
     "name": "stdout",
     "output_type": "stream",
     "text": [
      "[[-0.94272735 -0.04521501 -0.39305939 -0.13281634 -0.06200822]\n",
      " [-0.64042656  0.71570884  1.98049744 -0.30834497 -0.64711113]\n",
      " [-0.4426638  -0.68713849 -0.34417704 -0.48252396  1.23359879]]\n"
     ]
    }
   ],
   "source": [
    "# Arreglos de números aleatorios normalmente distribuidos\n",
    "Y = np.random.normal(size = (3,5))\n",
    "print(Y)"
   ]
  },
  {
   "cell_type": "code",
   "execution_count": 0,
   "metadata": {
    "colab": {
     "base_uri": "https://localhost:8080/",
     "height": 34
    },
    "colab_type": "code",
    "executionInfo": {
     "elapsed": 299,
     "status": "ok",
     "timestamp": 1556010867297,
     "user": {
      "displayName": "Manuel Ferrer",
      "photoUrl": "",
      "userId": "01378850988778114649"
     },
     "user_tz": 300
    },
    "id": "sW5A1TfseZE4",
    "outputId": "23bbf40b-3f02-4d68-8238-4feb24bd096f"
   },
   "outputs": [
    {
     "name": "stdout",
     "output_type": "stream",
     "text": [
      "[39  9 44 36]\n"
     ]
    }
   ],
   "source": [
    "# Arreglos de números enteros aleatorios \n",
    "Z = np.random.randint(low=2,high=50,size=4)\n",
    "print(Z)"
   ]
  },
  {
   "cell_type": "code",
   "execution_count": 0,
   "metadata": {
    "colab": {
     "base_uri": "https://localhost:8080/",
     "height": 34
    },
    "colab_type": "code",
    "executionInfo": {
     "elapsed": 296,
     "status": "ok",
     "timestamp": 1556011204247,
     "user": {
      "displayName": "Manuel Ferrer",
      "photoUrl": "",
      "userId": "01378850988778114649"
     },
     "user_tz": 300
    },
    "id": "_o3MyUAzecSA",
    "outputId": "26bc430a-815f-4164-ec3b-33679a8def3a"
   },
   "outputs": [
    {
     "name": "stdout",
     "output_type": "stream",
     "text": [
      "[44 36  9 39]\n"
     ]
    }
   ],
   "source": [
    "# Permutación para de un arreglo \n",
    "print(np.random.permutation(Z))"
   ]
  },
  {
   "cell_type": "markdown",
   "metadata": {
    "colab_type": "text",
    "id": "B2VxoKqVXw1o"
   },
   "source": [
    "### Leer datos de un archivo"
   ]
  },
  {
   "cell_type": "code",
   "execution_count": 0,
   "metadata": {
    "colab": {},
    "colab_type": "code",
    "id": "hRy1DUy2Xw1o"
   },
   "outputs": [],
   "source": [
    "vector_txt = np.genfromtxt(\"https://raw.githubusercontent.com/joanby/python-ml-course/master/datasets/iris/iris.csv\", delimiter=\",\")\n",
    "vector_txt[1:,:4]"
   ]
  },
  {
   "cell_type": "code",
   "execution_count": 0,
   "metadata": {
    "colab": {},
    "colab_type": "code",
    "id": "wAJhPUTwXw1u",
    "outputId": "746055dd-6e59-4d56-dc67-057dcb20f5c3"
   },
   "outputs": [
    {
     "data": {
      "text/plain": [
       "(151, 5)"
      ]
     },
     "execution_count": 97,
     "metadata": {
      "tags": []
     },
     "output_type": "execute_result"
    }
   ],
   "source": [
    "vector_txt.shape"
   ]
  },
  {
   "cell_type": "markdown",
   "metadata": {
    "colab_type": "text",
    "id": "MFq-7qNDnjO0"
   },
   "source": [
    "## Mini Test 2"
   ]
  },
  {
   "cell_type": "markdown",
   "metadata": {
    "colab_type": "text",
    "id": "S86wdZcNXw4L"
   },
   "source": [
    "#### ¿Cómo colocar aleatoriamente diez números *uno* en una matriz 2D llena de zeros? "
   ]
  },
  {
   "cell_type": "code",
   "execution_count": 0,
   "metadata": {
    "colab": {},
    "colab_type": "code",
    "id": "lBl41S-0Xw4L",
    "outputId": "4eb778b2-ae68-48e8-ebe0-d724515cff47"
   },
   "outputs": [
    {
     "name": "stdout",
     "output_type": "stream",
     "text": [
      "[[1. 0. 1. 0. 1. 0. 0. 0. 1. 0.]\n",
      " [0. 0. 1. 0. 0. 0. 0. 1. 0. 0.]\n",
      " [0. 0. 0. 0. 0. 1. 0. 0. 0. 0.]\n",
      " [0. 1. 0. 0. 0. 0. 0. 0. 0. 0.]\n",
      " [0. 0. 0. 0. 0. 0. 0. 0. 0. 0.]\n",
      " [0. 0. 0. 0. 0. 0. 0. 0. 1. 0.]\n",
      " [0. 0. 0. 0. 0. 0. 0. 0. 0. 0.]\n",
      " [0. 0. 0. 0. 0. 0. 0. 0. 0. 0.]\n",
      " [0. 0. 0. 0. 0. 0. 0. 0. 1. 0.]\n",
      " [0. 0. 0. 0. 0. 0. 0. 0. 0. 0.]]\n"
     ]
    }
   ],
   "source": []
  },
  {
   "cell_type": "markdown",
   "metadata": {
    "colab_type": "text",
    "id": "RHE7spDrXw4O"
   },
   "source": [
    "#### ¿Cómo construir un vector con 3 ceros consecutivos intercalados en el vector `[1,2,3,4,5]`?"
   ]
  },
  {
   "cell_type": "code",
   "execution_count": 0,
   "metadata": {
    "colab": {},
    "colab_type": "code",
    "id": "4UhNBmcJXw4P",
    "outputId": "5fdf0a4f-3cb1-4c99-931f-d0b064fcec50"
   },
   "outputs": [
    {
     "name": "stdout",
     "output_type": "stream",
     "text": [
      "[1. 0. 0. 0. 2. 0. 0. 0. 3. 0. 0. 0. 4. 0. 0. 0. 5.]\n"
     ]
    }
   ],
   "source": []
  },
  {
   "cell_type": "markdown",
   "metadata": {
    "colab_type": "text",
    "id": "me_wrfBdfrEC"
   },
   "source": [
    "## Conclusiones\n",
    "\n",
    "### Diferencias clave entre las listas de Python y los arreglos numéricos\n",
    "\n",
    "Mientras que las listas de Python y los arreglos numéricos tienen similitudes en que ambos son colecciones de valores que usan indexación para ayudarle a almacenar y acceder a los datos, hay algunas diferencias clave entre estas dos estructuras de datos:\n",
    "\n",
    "* A diferencia de una lista Python, todos los elementos de un arreglo numpy deben ser del mismo tipo de datos (es decir, todos los enteros, decimales, cadenas de texto, etc.).\n",
    "* Debido a este requisito, los arreglos numéricos soportan operaciones aritméticas y otras operaciones matemáticas que se ejecutan en cada elemento del arreglo (por ejemplo, multiplicación elemento por elemento). Las listas no soportan estos cálculos.\n",
    "* A diferencia de una lista Python, una matriz numpy no se edita añadiendo/eliminando/reemplazando elementos en la matriz. En su lugar, la matriz numpy se borra y se vuelve a crear cada vez que se manipula.\n",
    "* Los arreglos numéricos tienen dimensionalidad como resultado de la capacidad de almacenar datos usando tanto filas como columnas que son relativas entre sí."
   ]
  },
  {
   "cell_type": "markdown",
   "metadata": {
    "colab_type": "text",
    "id": "csU77Jz0Fwz_"
   },
   "source": [
    "## Referencias y material de interés\n",
    "\n",
    "\n",
    "1.   [Python for Data Analysis](https://www.oreilly.com/library/view/python-for-data/9781491957653/) [Online Book](https://jakevdp.github.io/PythonDataScienceHandbook/02.00-introduction-to-numpy.html)\n",
    "2.   [Data Analysis with Python](https://www.coursera.org/learn/data-analysis-with-python)\n",
    "3.   [Deep Learning Prerequisites: The Numpy Stack in Python](https://www.udemy.com/deep-learning-prerequisites-the-numpy-stack-in-python/)\n",
    "4.   [Intro Numpy Arrays](https://www.earthdatascience.org/courses/earth-analytics-bootcamp/numpy-arrays/intro-numpy-arrays/)\n",
    "\n",
    "5. [Vídeo: Intro to Numerical Computing with NumPy (Beginner) | SciPy 2018 Tutorial | Alex Chabot-Leclerc](https://www.youtube.com/watch?v=V0D2mhVt7NE)"
   ]
  },
  {
   "cell_type": "markdown",
   "metadata": {
    "colab_type": "text",
    "id": "ecXF00b-Xw4T"
   },
   "source": [
    "## Lista de Ejercicios\n",
    "1. https://github.com/rougier/numpy-100/blob/master/100_Numpy_exercises.ipynb\n",
    "2. https://www.machinelearningplus.com/python/101-numpy-exercises-python/\n",
    "3. https://www.earthdatascience.org/courses/earth-analytics-bootcamp/numpy-arrays/manipulate-summarize-plot-numpy-arrays/"
   ]
  }
 ],
 "metadata": {
  "colab": {
   "authorship_tag": "ABX9TyNJF2E59RXuCxigQplLpdyR",
   "collapsed_sections": [
    "fSIq14h_d2tB",
    "IVmV8FqMd20y",
    "KOWqi5wqxd38",
    "6ihZrb0yd28_",
    "Qh_u0FL7mSYJ",
    "5m0aZyArbCkR",
    "dqbj_MgwFC3p",
    "fjZJwpzjFDta",
    "0vtz7D9nFFJt",
    "D-6LxOBIX741",
    "HpUSmtqeBNtE",
    "9HNG9sYrFd1w",
    "yLD7v5FLBPMC",
    "MFq-7qNDnjO0"
   ],
   "name": "Sesión 1.ipynb",
   "provenance": []
  },
  "kernelspec": {
   "display_name": "Python 3",
   "language": "python",
   "name": "python3"
  },
  "language_info": {
   "codemirror_mode": {
    "name": "ipython",
    "version": 3
   },
   "file_extension": ".py",
   "mimetype": "text/x-python",
   "name": "python",
   "nbconvert_exporter": "python",
   "pygments_lexer": "ipython3",
   "version": "3.7.6"
  }
 },
 "nbformat": 4,
 "nbformat_minor": 1
}
